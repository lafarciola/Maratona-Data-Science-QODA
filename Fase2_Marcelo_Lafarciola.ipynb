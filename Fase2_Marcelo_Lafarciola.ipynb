{
  "nbformat": 4,
  "nbformat_minor": 0,
  "metadata": {
    "colab": {
      "name": "Fase2_Marcelo_Lafarciola.ipynb",
      "provenance": [],
      "collapsed_sections": [],
      "include_colab_link": true
    },
    "kernelspec": {
      "name": "python3",
      "display_name": "Python 3"
    }
  },
  "cells": [
    {
      "cell_type": "markdown",
      "metadata": {
        "id": "view-in-github",
        "colab_type": "text"
      },
      "source": [
        "<a href=\"https://colab.research.google.com/github/lafarciola/Maratona-Data-Science-QODA/blob/master/Fase2_Marcelo_Lafarciola.ipynb\" target=\"_parent\"><img src=\"https://colab.research.google.com/assets/colab-badge.svg\" alt=\"Open In Colab\"/></a>"
      ]
    },
    {
      "cell_type": "markdown",
      "metadata": {
        "id": "CYNAmoj4zSXl",
        "colab_type": "text"
      },
      "source": [
        "Crie um algoritmo em Python que peça 2 números e imprima o maior deles."
      ]
    },
    {
      "cell_type": "code",
      "metadata": {
        "id": "ViAfpy3GzPN-",
        "colab_type": "code",
        "outputId": "c7197128-cc22-4232-91bc-5fb9b7dea5e7",
        "colab": {
          "base_uri": "https://localhost:8080/",
          "height": 68
        }
      },
      "source": [
        "# INSIRA SEU CÓDIGO AQUI\n",
        "x=float(input(\"Digite um número: \"))\n",
        "y=float(input(\"Digite outro número: \"))\n",
        "\n",
        "print(max(x,y))"
      ],
      "execution_count": 0,
      "outputs": [
        {
          "output_type": "stream",
          "text": [
            "Digite um número: 2\n",
            "Digite outro número: 3\n",
            "3.0\n"
          ],
          "name": "stdout"
        }
      ]
    },
    {
      "cell_type": "markdown",
      "metadata": {
        "id": "gdMis92izSmQ",
        "colab_type": "text"
      },
      "source": [
        "Crie um algoritmo em Python que peça um valor e mostre na tela se o valor é positivo ou negativo."
      ]
    },
    {
      "cell_type": "code",
      "metadata": {
        "id": "BFpWkdCBz_zh",
        "colab_type": "code",
        "outputId": "b3f01ee7-6442-446e-927c-22300c8e94a2",
        "colab": {
          "base_uri": "https://localhost:8080/",
          "height": 51
        }
      },
      "source": [
        "# INSIRA SEU CÓDIGO AQUI\n",
        "x=float(input(\"Digite um número: \"))\n",
        "if x>0:\n",
        "  print(\"O número é positivo.\")\n",
        "else:\n",
        "  print(\"O número é negativo.\")"
      ],
      "execution_count": 0,
      "outputs": [
        {
          "output_type": "stream",
          "text": [
            "Digite um número: -2\n",
            "O número é negativo.\n"
          ],
          "name": "stdout"
        }
      ]
    },
    {
      "cell_type": "markdown",
      "metadata": {
        "id": "E_0l_Vx6zSo2",
        "colab_type": "text"
      },
      "source": [
        "Crie um algoritmo em Python que verifique se uma letra digitada é vogal ou consoante."
      ]
    },
    {
      "cell_type": "code",
      "metadata": {
        "id": "KwJf7XZS0AZW",
        "colab_type": "code",
        "outputId": "7dd6d0e3-454e-48f0-bbe4-e85fb106e804",
        "colab": {
          "base_uri": "https://localhost:8080/",
          "height": 51
        }
      },
      "source": [
        "# INSIRA SEU CÓDIGO AQUI\n",
        "x=input(\"Digite um letra: \")\n",
        "vogais=[\"a\",'e','i','o','u']\n",
        "if x in vogais:\n",
        "  print(\"A letra digitada é uma vogal.\")\n",
        "else:\n",
        "  print(\"A letra digitada é uma consoante.\")\n"
      ],
      "execution_count": 0,
      "outputs": [
        {
          "output_type": "stream",
          "text": [
            "Digite um letra: b\n",
            "A letra digitada é uma consoante.\n"
          ],
          "name": "stdout"
        }
      ]
    },
    {
      "cell_type": "markdown",
      "metadata": {
        "id": "1i4VCiiczSrL",
        "colab_type": "text"
      },
      "source": [
        "Faça um programa para a leitura de duas notas parciais de um aluno. O programa deve calcular a média alcançada por aluno e apresentar:\n",
        "* \"Aprovado\", se a média alcançada for maior ou igual a sete;\n",
        "* \"Reprovado\", se a média for menor do que sete;\n",
        "* \"Aprovado com Distinção\", se a média for igual a 10."
      ]
    },
    {
      "cell_type": "code",
      "metadata": {
        "id": "yoW67hjA0BHy",
        "colab_type": "code",
        "outputId": "e3082428-61b9-4c7d-d395-1e4694c877cd",
        "colab": {
          "base_uri": "https://localhost:8080/",
          "height": 68
        }
      },
      "source": [
        "# INSIRA SEU CÓDIGO AQUI\n",
        "\n",
        "x=float(input(\"Digite a primeira nota: \"))\n",
        "y=float(input(\"Digite a segunda nota: \"))\n",
        "media=(x+y)/2\n",
        "\n",
        "if media>=7:\n",
        "  if media==10:\n",
        "    print(\"Aprovado com distinção.\")\n",
        "  else:\n",
        "    print(\"Aprovado.\")\n",
        "else:\n",
        "  print(\"Reprovado\")\n"
      ],
      "execution_count": 0,
      "outputs": [
        {
          "output_type": "stream",
          "text": [
            "Digite a primeira nota: 8\n",
            "Digite a segunda nota: 7\n",
            "Aprovado.\n"
          ],
          "name": "stdout"
        }
      ]
    },
    {
      "cell_type": "markdown",
      "metadata": {
        "id": "4ep7kezvzStO",
        "colab_type": "text"
      },
      "source": [
        "Crie um algoritmo em Python que leia três números e mostre o maior deles."
      ]
    },
    {
      "cell_type": "code",
      "metadata": {
        "id": "6K6IHWdr0Blt",
        "colab_type": "code",
        "outputId": "c1569305-b263-4270-972e-5ee6a6135905",
        "colab": {
          "base_uri": "https://localhost:8080/",
          "height": 85
        }
      },
      "source": [
        "# INSIRA SEU CÓDIGO AQUI\n",
        "x=float(input(\"Digite o primeiro número: \"))\n",
        "y=float(input(\"Digite o segundo número: \"))\n",
        "z=float(input(\"Digite o terceiro número: \"))\n",
        "print(f'O maior número é: {max(x,y,z)}')"
      ],
      "execution_count": 0,
      "outputs": [
        {
          "output_type": "stream",
          "text": [
            "Digite o primeiro número: 5\n",
            "Digite o segundo número: 4\n",
            "Digite o terceiro número: 8\n",
            "O maior número é: 8.0\n"
          ],
          "name": "stdout"
        }
      ]
    },
    {
      "cell_type": "markdown",
      "metadata": {
        "id": "u6__NaXqzeYg",
        "colab_type": "text"
      },
      "source": [
        "Crie um algoritmo em Python que leia três números e mostre o maior e o menor deles."
      ]
    },
    {
      "cell_type": "code",
      "metadata": {
        "id": "mm2L7g3x0Cfx",
        "colab_type": "code",
        "outputId": "3dbf0e15-406e-4fce-d9d6-e4aec143bf39",
        "colab": {
          "base_uri": "https://localhost:8080/",
          "height": 102
        }
      },
      "source": [
        "# INSIRA SEU CÓDIGO AQUI\n",
        "x=float(input(\"Digite o primeiro número: \"))\n",
        "y=float(input(\"Digite o segundo número: \"))\n",
        "z=float(input(\"Digite o terceiro número: \"))\n",
        "print(f'O maior número é: {max(x,y,z)}\\nO menor número é: {min(x,y,z)}')"
      ],
      "execution_count": 0,
      "outputs": [
        {
          "output_type": "stream",
          "text": [
            "Digite o primeiro número: 4\n",
            "Digite o segundo número: 6\n",
            "Digite o terceiro número: 9\n",
            "O maior número é: 9.0\n",
            "O menor número é: 4.0\n"
          ],
          "name": "stdout"
        }
      ]
    },
    {
      "cell_type": "markdown",
      "metadata": {
        "id": "lIlfG-ATzgOr",
        "colab_type": "text"
      },
      "source": [
        "Faça um programa que pergunte o preço de 5 produtos e informe qual produto você deve comprar, sabendo que a decisão é sempre pelo mais barato."
      ]
    },
    {
      "cell_type": "code",
      "metadata": {
        "id": "-y4pB6br0DD_",
        "colab_type": "code",
        "outputId": "04cbad47-4f98-4c6c-90fa-5e73a61e8b99",
        "colab": {
          "base_uri": "https://localhost:8080/",
          "height": 119
        }
      },
      "source": [
        "# INSIRA SEU CÓDIGO AQUI\n",
        "\n",
        "precos=[]\n",
        "for i in range(5):\n",
        "  i=float(input(\"Digite o preço do produto: \"))\n",
        "  precos.append(i)\n",
        "\n",
        "barato=min(precos)\n",
        "print(f\"O produto que deve ser comprado custa: R${barato:.2}\")"
      ],
      "execution_count": 0,
      "outputs": [
        {
          "output_type": "stream",
          "text": [
            "Digite o preço do produto: 2\n",
            "Digite o preço do produto: 4\n",
            "Digite o preço do produto: 5\n",
            "Digite o preço do produto: 5\n",
            "Digite o preço do produto: 8\n",
            "O produto que deve ser comprado custa: R$2.0\n"
          ],
          "name": "stdout"
        }
      ]
    },
    {
      "cell_type": "markdown",
      "metadata": {
        "id": "Vj4OXsJQziu_",
        "colab_type": "text"
      },
      "source": [
        "Crie um algoritmo em Python que leia três números e mostre-os em ordem decrescente."
      ]
    },
    {
      "cell_type": "code",
      "metadata": {
        "id": "RmApGpg30D00",
        "colab_type": "code",
        "outputId": "42b12727-2950-4f03-c3f6-47fc034afb88",
        "colab": {
          "base_uri": "https://localhost:8080/",
          "height": 85
        }
      },
      "source": [
        "# INSIRA SEU CÓDIGO AQUI\n",
        "numeros=[]\n",
        "\n",
        "for i in range(3):\n",
        "  i=float(input(\"Digite um número: \"))\n",
        "  numeros.append(i)\n",
        "\n",
        "numeros.sort()\n",
        "print(numeros)"
      ],
      "execution_count": 0,
      "outputs": [
        {
          "output_type": "stream",
          "text": [
            "Digite um número: 8\n",
            "Digite um número: 2\n",
            "Digite um número: 5\n",
            "[2.0, 5.0, 8.0]\n"
          ],
          "name": "stdout"
        }
      ]
    },
    {
      "cell_type": "markdown",
      "metadata": {
        "id": "e7id8Ewgzlow",
        "colab_type": "text"
      },
      "source": [
        "As Organizações Mendéz resolveram dar um aumento de salário aos seus colaboradores e lhe contraram para desenvolver o programa que calculará os reajustes em Python. Faça um programa que receba o salário de um colaborador e o reajuste segundo o seguinte critério, baseado no salário atual:\n",
        "\n",
        "* salários entre 680,00 e 800,00 : aumento de 15%<br>\n",
        "* salários entre 800,00 e 2500,00 : aumento de 10%<br>\n",
        "* salários de 2500,00 em diante : aumento de 5% após o aumento ser realizado.\n",
        "\n",
        "Informe na tela:\n",
        "* o salário antes do reajuste;\n",
        "* o percentual de aumento aplicado;\n",
        "* o valor do aumento;\n",
        "* o novo salário, após o aumento."
      ]
    },
    {
      "cell_type": "code",
      "metadata": {
        "id": "Kl0ainsv0Eif",
        "colab_type": "code",
        "outputId": "16469c43-6e35-4bb5-8fcf-708369500a73",
        "colab": {
          "base_uri": "https://localhost:8080/",
          "height": 102
        }
      },
      "source": [
        "# INSIRA SEU CÓDIGO AQUI\n",
        "salario=float(input(\"Digite o valor do salário: \"))\n",
        "\n",
        "if salario>=680 and salario<800:\n",
        "  ajuste=\"15%\"\n",
        "  valorajuste=salario*0.15\n",
        "  x=salario+valorajuste\n",
        "elif salario>=800 and salario<2500:\n",
        "  ajuste=\"10%\"\n",
        "  valorajuste=salario*0.1\n",
        "  x=salario+valorajuste\n",
        "elif salario>2500:\n",
        "  ajuste=\"5%\"\n",
        "  valorajuste=salario*0.05\n",
        "  x=salario+valorajuste\n",
        "\n",
        "print(f\"O salário antes do reajuste era de: R${salario:.2f}\")\n",
        "print(f'O reajuste foi de: {ajuste}')\n",
        "print(f'O valor do aumento foi de: R${valorajuste:.2f}')\n",
        "print(f'O novo salário é de: R${x:.2f}')\n",
        "\n",
        "\n",
        "\n"
      ],
      "execution_count": 0,
      "outputs": [
        {
          "output_type": "stream",
          "text": [
            "Digite o valor do salário: 700\n",
            "O salário antes do reajuste era de: R$700.00\n",
            "O reajuste foi de: 15%\n",
            "O valor do aumento foi de: R$105.00\n",
            "O novo salário é de: R$805.00\n"
          ],
          "name": "stdout"
        }
      ]
    }
  ]
}