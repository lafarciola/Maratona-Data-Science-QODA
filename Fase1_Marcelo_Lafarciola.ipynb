{
  "nbformat": 4,
  "nbformat_minor": 0,
  "metadata": {
    "colab": {
      "name": "Fase1_Marcelo_Lafarciola.ipynb",
      "provenance": [],
      "collapsed_sections": [],
      "include_colab_link": true
    },
    "kernelspec": {
      "name": "python3",
      "display_name": "Python 3"
    }
  },
  "cells": [
    {
      "cell_type": "markdown",
      "metadata": {
        "id": "view-in-github",
        "colab_type": "text"
      },
      "source": [
        "<a href=\"https://colab.research.google.com/github/lafarciola/Maratona-Data-Science-QODA/blob/master/Fase1_Marcelo_Lafarciola.ipynb\" target=\"_parent\"><img src=\"https://colab.research.google.com/assets/colab-badge.svg\" alt=\"Open In Colab\"/></a>"
      ]
    },
    {
      "cell_type": "markdown",
      "metadata": {
        "id": "CYNAmoj4zSXl",
        "colab_type": "text"
      },
      "source": [
        "Crie um algoritmo em Python que mostre a mensagem \"Alo mundo\" na tela."
      ]
    },
    {
      "cell_type": "code",
      "metadata": {
        "id": "ViAfpy3GzPN-",
        "colab_type": "code",
        "outputId": "dcee620a-edd8-4398-e04d-86b9efab99ab",
        "colab": {
          "base_uri": "https://localhost:8080/",
          "height": 34
        }
      },
      "source": [
        "# INSIRA SEU CÓDIGO AQUI\n",
        "\n",
        "print(\"Alo mundo\")"
      ],
      "execution_count": 0,
      "outputs": [
        {
          "output_type": "stream",
          "text": [
            "Alo mundo\n"
          ],
          "name": "stdout"
        }
      ]
    },
    {
      "cell_type": "markdown",
      "metadata": {
        "id": "gdMis92izSmQ",
        "colab_type": "text"
      },
      "source": [
        "Crie um algoritmo em Python que peça dois números e imprima a soma."
      ]
    },
    {
      "cell_type": "code",
      "metadata": {
        "id": "BFpWkdCBz_zh",
        "colab_type": "code",
        "outputId": "b70f6ebd-827a-4a04-fb18-dbf81948f16e",
        "colab": {
          "base_uri": "https://localhost:8080/",
          "height": 68
        }
      },
      "source": [
        "# INSIRA SEU CÓDIGO AQUI\n",
        "x=int(input(\"Digite um número: \"))\n",
        "y=int(input(\"Digite outro número: \"))\n",
        "\n",
        "print(x+y)"
      ],
      "execution_count": 0,
      "outputs": [
        {
          "output_type": "stream",
          "text": [
            "Digite um número: 2\n",
            "Digite outro número: 3\n",
            "5\n"
          ],
          "name": "stdout"
        }
      ]
    },
    {
      "cell_type": "markdown",
      "metadata": {
        "id": "E_0l_Vx6zSo2",
        "colab_type": "text"
      },
      "source": [
        "Crie um algoritmo em Python que peça um número e então mostre a mensagem O número informado foi [número]."
      ]
    },
    {
      "cell_type": "code",
      "metadata": {
        "id": "KwJf7XZS0AZW",
        "colab_type": "code",
        "outputId": "a667ffd5-66ee-4709-be41-2daca606a449",
        "colab": {
          "base_uri": "https://localhost:8080/",
          "height": 51
        }
      },
      "source": [
        "# INSIRA SEU CÓDIGO AQUI\n",
        "x=int(input(\"Digite um número: \"))\n",
        "print(f'O número informado foi: {x}')"
      ],
      "execution_count": 0,
      "outputs": [
        {
          "output_type": "stream",
          "text": [
            "Digite um número: 2\n",
            "O número informado foi: 2\n"
          ],
          "name": "stdout"
        }
      ]
    },
    {
      "cell_type": "markdown",
      "metadata": {
        "id": "1i4VCiiczSrL",
        "colab_type": "text"
      },
      "source": [
        "Crie um algoritmo em Python que converta metros para centímetros."
      ]
    },
    {
      "cell_type": "code",
      "metadata": {
        "id": "yoW67hjA0BHy",
        "colab_type": "code",
        "outputId": "249f4999-de56-4fe0-bdd0-b3305530e218",
        "colab": {
          "base_uri": "https://localhost:8080/",
          "height": 51
        }
      },
      "source": [
        "# INSIRA SEU CÓDIGO AQUI\n",
        "\n",
        "x=float(input(\"Digite o valor em metros: \"))\n",
        "\n",
        "cm=x*100\n",
        "\n",
        "print(f'O valor em centímetros é: {cm} cm')"
      ],
      "execution_count": 0,
      "outputs": [
        {
          "output_type": "stream",
          "text": [
            "Digite o valor em metros: 24.3\n",
            "O valor em centímetros é: 2430.0 cm\n"
          ],
          "name": "stdout"
        }
      ]
    },
    {
      "cell_type": "markdown",
      "metadata": {
        "id": "4ep7kezvzStO",
        "colab_type": "text"
      },
      "source": [
        "Crie um algoritmo em Python que peça as 4 notas bimestrais e mostre a média."
      ]
    },
    {
      "cell_type": "code",
      "metadata": {
        "id": "6K6IHWdr0Blt",
        "colab_type": "code",
        "outputId": "e4b8830b-43ef-4965-e1e3-8f60d992f209",
        "colab": {
          "base_uri": "https://localhost:8080/",
          "height": 102
        }
      },
      "source": [
        "# INSIRA SEU CÓDIGO AQUI\n",
        "notas=[]\n",
        "for n in range(4):\n",
        "  n=float(input(\"Digite a nota: \"))\n",
        "  notas.append(n)\n",
        "\n",
        "media=sum(notas)/4\n",
        "print(f'Sua média é: {media:.2}')"
      ],
      "execution_count": 0,
      "outputs": [
        {
          "output_type": "stream",
          "text": [
            "Digite a nota: 3\n",
            "Digite a nota: 4.5\n",
            "Digite a nota: 4.8\n",
            "Digite a nota: 3.4\n",
            "Sua média é: 3.9\n"
          ],
          "name": "stdout"
        }
      ]
    },
    {
      "cell_type": "markdown",
      "metadata": {
        "id": "u6__NaXqzeYg",
        "colab_type": "text"
      },
      "source": [
        "Crie um algoritmo em Python que peça o raio de um círculo, calcule e mostre sua área."
      ]
    },
    {
      "cell_type": "code",
      "metadata": {
        "id": "mm2L7g3x0Cfx",
        "colab_type": "code",
        "outputId": "ca964bdb-8be5-4c18-e4cf-434b78ed7c34",
        "colab": {
          "base_uri": "https://localhost:8080/",
          "height": 51
        }
      },
      "source": [
        "# INSIRA SEU CÓDIGO AQUI\n",
        "import math\n",
        "\n",
        "def AreaCirculo(r):\n",
        "\n",
        "  area=math.pi*(r**2)\n",
        "  return area\n",
        "\n",
        "x=float(input(\"Digite o raio da circunferência em metros: \"))\n",
        "print(f'A área da circunferência é: {AreaCirculo(x):.3} m')"
      ],
      "execution_count": 0,
      "outputs": [
        {
          "output_type": "stream",
          "text": [
            "Digite o raio da circunferência em metros: 2\n",
            "A área da circunferência é: 12.6 m\n"
          ],
          "name": "stdout"
        }
      ]
    },
    {
      "cell_type": "markdown",
      "metadata": {
        "id": "lIlfG-ATzgOr",
        "colab_type": "text"
      },
      "source": [
        "Crie um algoritmo em Python que calcule a área de um quadrado, em seguida mostre o dobro desta área para o usuário."
      ]
    },
    {
      "cell_type": "code",
      "metadata": {
        "id": "-y4pB6br0DD_",
        "colab_type": "code",
        "outputId": "b414f4f9-18ae-455b-ca96-5bc7dfce635c",
        "colab": {
          "base_uri": "https://localhost:8080/",
          "height": 51
        }
      },
      "source": [
        "# INSIRA SEU CÓDIGO AQUI\n",
        "def AreaQuadrado(l):\n",
        "\n",
        "  area=l**2\n",
        "  return area\n",
        "\n",
        "x=float(input(\"Digite o tamanho do lado do quadrado: \"))\n",
        "print(f'O dobro da área do quadrado é:{AreaQuadrado(x)*2:.3f}')"
      ],
      "execution_count": 0,
      "outputs": [
        {
          "output_type": "stream",
          "text": [
            "Digite o tamanho do lado do quadrado: 3.8\n",
            "O dobro da área do quadrado é:28.880\n"
          ],
          "name": "stdout"
        }
      ]
    },
    {
      "cell_type": "markdown",
      "metadata": {
        "id": "Vj4OXsJQziu_",
        "colab_type": "text"
      },
      "source": [
        "Crie um algoritmo em Python que pergunte quanto você ganha por hora e o número de horas trabalhadas no mês. Calcule e mostre o total do seu salário no referido mês.\n"
      ]
    },
    {
      "cell_type": "code",
      "metadata": {
        "id": "RmApGpg30D00",
        "colab_type": "code",
        "outputId": "40d4fb58-9801-4669-b27e-596e66b493d8",
        "colab": {
          "base_uri": "https://localhost:8080/",
          "height": 68
        }
      },
      "source": [
        "# INSIRA SEU CÓDIGO AQUI\n",
        "valor=float(input(\"Digite o valor pago por hora: \"))\n",
        "horas=int(input(\"Digite o número de horas trabalhadas no mês: \"))\n",
        "pagamento=horas*valor\n",
        "print(f'O valor do seu salário mensal é de: {pagamento:.3f}')\n"
      ],
      "execution_count": 0,
      "outputs": [
        {
          "output_type": "stream",
          "text": [
            "Digite o valor pago por hora: 30\n",
            "Digite o número de horas trabalhadas no mês: 160\n",
            "O valor do seu salário mensal é de: 4800.000\n"
          ],
          "name": "stdout"
        }
      ]
    },
    {
      "cell_type": "markdown",
      "metadata": {
        "id": "e7id8Ewgzlow",
        "colab_type": "text"
      },
      "source": [
        "Crie um algoritmo em Python que peça a temperatura em graus Farenheit, transforme e mostre a temperatura em graus Celsius.\n",
        "C = (5 * (F-32) / 9)."
      ]
    },
    {
      "cell_type": "code",
      "metadata": {
        "id": "Kl0ainsv0Eif",
        "colab_type": "code",
        "outputId": "3c3ff845-deac-40aa-ca1d-77e45691ab07",
        "colab": {
          "base_uri": "https://localhost:8080/",
          "height": 51
        }
      },
      "source": [
        "# INSIRA SEU CÓDIGO AQUI\n",
        "f=float(input(\"Digite o valor da temperatura em Farenheit: \"))\n",
        "celsius=(5*(f-32)/9)\n",
        "print(f'A temperatura em Celsius é: {celsius:.1f}°C')"
      ],
      "execution_count": 0,
      "outputs": [
        {
          "output_type": "stream",
          "text": [
            "Digite o valor da temperatura em Farenheit: 90\n",
            "A temperatura em Celsius é: 32.2°C\n"
          ],
          "name": "stdout"
        }
      ]
    },
    {
      "cell_type": "markdown",
      "metadata": {
        "id": "mFCgXRPaznno",
        "colab_type": "text"
      },
      "source": [
        "Crie um algoritmo em Python que peça a temperatura em graus Celsius, transforme e mostre em graus Farenheit."
      ]
    },
    {
      "cell_type": "code",
      "metadata": {
        "id": "xEAAHRi00FS8",
        "colab_type": "code",
        "outputId": "306ed9d0-1d1a-42c9-a2a2-96416d129c19",
        "colab": {
          "base_uri": "https://localhost:8080/",
          "height": 51
        }
      },
      "source": [
        "# INSIRA SEU CÓDIGO AQUI\n",
        "c=float(input(\"Digite a temperatura em graus Celsius: \"))\n",
        "faren=(9*c+32*5)/5\n",
        "print(f'A temperatura em Farenheit é: {faren:.1f}°F')"
      ],
      "execution_count": 0,
      "outputs": [
        {
          "output_type": "stream",
          "text": [
            "Digite a temperatura em graus Celsius: 32.2\n",
            "A temperatura em Farenheit é: 90.0°F\n"
          ],
          "name": "stdout"
        }
      ]
    },
    {
      "cell_type": "markdown",
      "metadata": {
        "id": "j3fdhu-8zqu9",
        "colab_type": "text"
      },
      "source": [
        "Crie um algoritmo em Python que peça 2 números inteiros e um número real. Calcule e mostre:\n",
        "* a soma do dobro do primeiro com metade do segundo .\n",
        "* a soma do triplo do primeiro com o terceiro.\n",
        "* o terceiro elevado ao cubo."
      ]
    },
    {
      "cell_type": "code",
      "metadata": {
        "id": "ZEqZrKjt0F5B",
        "colab_type": "code",
        "outputId": "174cedf1-1f3a-4830-b5d6-d7145ea4c7a2",
        "colab": {
          "base_uri": "https://localhost:8080/",
          "height": 119
        }
      },
      "source": [
        "# INSIRA SEU CÓDIGO AQUI\n",
        "x=int(input(\"Digite o primeiro número inteiro: \"))\n",
        "y=int(input(\"Digite o segundo número inteiro: \"))\n",
        "z=float(input(\"Digite um número real: \"))\n",
        "\n",
        "somadobra=2*x+0.5*y\n",
        "somatriplo=3*x+z\n",
        "cubo=z**3\n",
        "\n",
        "print(f'a soma do dobro do primeiro com metade do segundo é: {somadobra}')\n",
        "print(f'a soma do triplo do primeiro com o terceiro é: {somatriplo}')\n",
        "print(f'o terceiro elevado ao cubo é: {cubo}')"
      ],
      "execution_count": 0,
      "outputs": [
        {
          "output_type": "stream",
          "text": [
            "Digite o primeiro número inteiro: 2\n",
            "Digite o segundo número inteiro: 3\n",
            "Digite um número real: 2.5\n",
            "a soma do dobro do primeiro com metade do segundo é: 5.5\n",
            "a soma do triplo do primeiro com o terceiro é: 8.5\n",
            "o terceiro elevado ao cubo é: 15.625\n"
          ],
          "name": "stdout"
        }
      ]
    }
  ]
}