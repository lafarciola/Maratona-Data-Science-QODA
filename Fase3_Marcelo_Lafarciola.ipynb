{
  "nbformat": 4,
  "nbformat_minor": 0,
  "metadata": {
    "colab": {
      "name": "Fase3-Marcelo_Lafarciola.ipynb",
      "provenance": [],
      "collapsed_sections": [],
      "include_colab_link": true
    },
    "kernelspec": {
      "name": "python3",
      "display_name": "Python 3"
    }
  },
  "cells": [
    {
      "cell_type": "markdown",
      "metadata": {
        "id": "view-in-github",
        "colab_type": "text"
      },
      "source": [
        "<a href=\"https://colab.research.google.com/github/lafarciola/Maratona-Data-Science-QODA/blob/master/Fase3_Marcelo_Lafarciola.ipynb\" target=\"_parent\"><img src=\"https://colab.research.google.com/assets/colab-badge.svg\" alt=\"Open In Colab\"/></a>"
      ]
    },
    {
      "cell_type": "markdown",
      "metadata": {
        "id": "CYNAmoj4zSXl",
        "colab_type": "text"
      },
      "source": [
        "Crie um algoritmo em Python que peça uma nota, entre zero e 100. Mostre uma mensagem caso o valor seja inválido e continue pedindo até que o usuário informe um valor válido."
      ]
    },
    {
      "cell_type": "code",
      "metadata": {
        "id": "ViAfpy3GzPN-",
        "colab_type": "code",
        "outputId": "60a72e91-f641-4eb9-c902-1708dff28b3a",
        "colab": {
          "base_uri": "https://localhost:8080/",
          "height": 102
        }
      },
      "source": [
        "# INSIRA SEU CÓDIGO AQUI\n",
        "while True:\n",
        "\n",
        "  try:\n",
        "    x=float(input(\"Digite uma nota entre 0 e 100: \"))\n",
        "    if x>=0 and x<=100:\n",
        "      break\n",
        "    else:\n",
        "      x=print(\"Você digitou um número fora do intervalo, tente novamente.\")\n",
        "    pass\n",
        "  except Exception as e:  \n",
        "    print(\"Digite um número válido. \")"
      ],
      "execution_count": 0,
      "outputs": [
        {
          "output_type": "stream",
          "text": [
            "Digite uma nota entre 0 e 100: 200\n",
            "Você digitou um número fora do intervalo, tente novamente.\n",
            "Digite uma nota entre 0 e 100: \n",
            "Digite um número válido. \n",
            "Digite uma nota entre 0 e 100: 50\n"
          ],
          "name": "stdout"
        }
      ]
    },
    {
      "cell_type": "markdown",
      "metadata": {
        "id": "gdMis92izSmQ",
        "colab_type": "text"
      },
      "source": [
        "Crie um algoritmo em Python que leia um nome de usuário e a sua senha e não aceite a senha igual ao nome do usuário, mostrando uma mensagem de erro e voltando a pedir as informações.<br>"
      ]
    },
    {
      "cell_type": "code",
      "metadata": {
        "id": "BFpWkdCBz_zh",
        "colab_type": "code",
        "outputId": "3342e432-5f07-4d9f-ab39-de4a71e00e50",
        "colab": {
          "base_uri": "https://localhost:8080/",
          "height": 85
        }
      },
      "source": [
        "# INSIRA SEU CÓDIGO AQUI\n",
        "usuario=input(\"Digite seu nome de usuário: \")\n",
        "\n",
        "while True:\n",
        "    try:\n",
        "      senha=input(\"Digite sua senha: \")\n",
        "      if senha==usuario:\n",
        "        print(\"Sua senha não pode conter seu nome, tente novamente.\")\n",
        "        pass\n",
        "      else:\n",
        "        break\n",
        "    except Exception as e:\n",
        "      print(\"Erro inesperado, tente novamente.\")\n",
        "\n",
        "      \n",
        "  "
      ],
      "execution_count": 0,
      "outputs": [
        {
          "output_type": "stream",
          "text": [
            "Digite seu nome de usuário: marcelo\n",
            "Digite sua senha: marcelo\n",
            "Sua senha não pode conter seu nome, tente novamente.\n",
            "Digite sua senha: marcos\n"
          ],
          "name": "stdout"
        }
      ]
    },
    {
      "cell_type": "markdown",
      "metadata": {
        "id": "E_0l_Vx6zSo2",
        "colab_type": "text"
      },
      "source": [
        "Crie um algoritmo em Python que leia e valide as seguintes informações:\n",
        "* Nome: maior que 3 caracteres;\n",
        "* Idade: entre 0 e 150;\n",
        "* Salário: maior que zero;\n",
        "* Sexo: 'f' ou 'm';\n",
        "* Estado Civil: 's', 'c', 'v', 'd';"
      ]
    },
    {
      "cell_type": "code",
      "metadata": {
        "id": "KwJf7XZS0AZW",
        "colab_type": "code",
        "outputId": "48763ed4-5ca2-40ee-f12a-f144e4475d94",
        "colab": {
          "base_uri": "https://localhost:8080/",
          "height": 136
        }
      },
      "source": [
        "# INSIRA SEU CÓDIGO AQUI\n",
        "nome=input(\"Digite seu nome: \")\n",
        "idade=int(input(\"Digite sua idade: \"))\n",
        "salario=float(input(\"Digite seu salário: \"))\n",
        "sexo=input(\"Digite seu sexo: \")\n",
        "civil=input(\"Digite seu estado civil: \")\n",
        "\n",
        "while True:\n",
        "  try:\n",
        "    if len(nome)>=3:\n",
        "      break\n",
        "    else:\n",
        "      print(\"Digite um nome com mais de 3 caracteres.\")\n",
        "      nome=input(\"Digite seu nome: \")\n",
        "      pass\n",
        "  except Exception as e:\n",
        "    print(\"Erro inesperado, tente novamente.\")\n",
        "  try:\n",
        "    if idade>=0 and idade<=150:\n",
        "      break\n",
        "    else:\n",
        "      print(\"Digite uma idade válida.\")\n",
        "      idade=int(input(\"Digite sua idade: \"))\n",
        "      pass\n",
        "  except Exception as e:\n",
        "    print(\"Erro inesperado, tente novamente.\")\n",
        "  try:\n",
        "    if salario>0:\n",
        "      break\n",
        "    else:\n",
        "      print(\"Digite um salário maior que 0.\")\n",
        "      salario=float(input(\"Digite seu salário: \"))\n",
        "      pass\n",
        "  except Exception as e:\n",
        "    print(\"Erro inesperado, tente novamente.\")\n",
        "  try:\n",
        "    if sexo[0]==\"m\" or sexo[0]==\"f\":\n",
        "      break\n",
        "    else:\n",
        "      print(\"Digite um sexo válido, masculino ou feminino.\")\n",
        "      sexo=input(\"Digite seu sexo: \")\n",
        "      pass\n",
        "  except Exception as e:\n",
        "    print(\"Erro inesperado, tente novamente.\")\n",
        "  try:\n",
        "    if civil[0]==\"s\" or \\\n",
        "       civil[0]==\"c\" or \\\n",
        "       civil[0]==\"v\" or \\\n",
        "       civil[0]==\"d\" :\n",
        "      break\n",
        "    else:\n",
        "      print(\"Digite um estado civil válido, casado, solteiro, viúvo ou divorciado.\")\n",
        "      civil=input(\"Digite seu estado civil: \")\n",
        "      pass\n",
        "  except Exception as e:\n",
        "    print(\"Erro inesperado, tente novamente.\")\n"
      ],
      "execution_count": 0,
      "outputs": [
        {
          "output_type": "stream",
          "text": [
            "Digite seu nome: ma\n",
            "Digite sua idade: 23\n",
            "Digite seu salário: -2\n",
            "Digite seu sexo: masculino\n",
            "Digite seu estado civil: solteiro\n",
            "Digite um nome com mais de 3 caracteres.\n",
            "Digite seu nome: marcelo\n"
          ],
          "name": "stdout"
        }
      ]
    },
    {
      "cell_type": "markdown",
      "metadata": {
        "id": "1i4VCiiczSrL",
        "colab_type": "text"
      },
      "source": [
        "Supondo que a população de um país A seja da ordem de 80000 habitantes com uma taxa anual de crescimento de 3% e que a população de B seja 200000 habitantes com uma taxa de crescimento de 1.5%.<br><br> Crie um algoritmo em Python que calcule e escreva o número de anos necessários para que a população do país A ultrapasse ou iguale a população do país B, mantidas as taxas de crescimento."
      ]
    },
    {
      "cell_type": "code",
      "metadata": {
        "id": "yoW67hjA0BHy",
        "colab_type": "code",
        "colab": {}
      },
      "source": [
        "# INSIRA SEU CÓDIGO AQUI"
      ],
      "execution_count": 0,
      "outputs": []
    },
    {
      "cell_type": "markdown",
      "metadata": {
        "id": "4ep7kezvzStO",
        "colab_type": "text"
      },
      "source": [
        "Desenvolva um gerador de tabuada, capaz de gerar a tabuada de qualquer número inteiro entre 1 a 10. O usuário deve informar de qual numero ele deseja ver a tabuada. A saída deve ser conforme o exemplo abaixo:\n",
        "Tabuada de 5:<br>\n",
        "5 X 1 = 5<br>\n",
        "5 X 2 = 10<br>\n",
        "...<br>\n",
        "5 X 10 = 50<br>"
      ]
    },
    {
      "cell_type": "code",
      "metadata": {
        "id": "6K6IHWdr0Blt",
        "colab_type": "code",
        "outputId": "aee64167-f3f9-42e0-bb9a-ab53833a8e4e",
        "colab": {
          "base_uri": "https://localhost:8080/",
          "height": 221
        }
      },
      "source": [
        "# INSIRA SEU CÓDIGO AQUI\n",
        "   \n",
        "\n",
        "numero=int(input(\"Digite o numero da tabuada desejada: \"))\n",
        "\n",
        "for i in range(11):\n",
        "  valor=i*numero\n",
        "  print(f'{numero} x {i} = {valor}')\n"
      ],
      "execution_count": 0,
      "outputs": [
        {
          "output_type": "stream",
          "text": [
            "Digite o numero da tabuada desejada: 5\n",
            "5 x 0 = 0\n",
            "5 x 1 = 5\n",
            "5 x 2 = 10\n",
            "5 x 3 = 15\n",
            "5 x 4 = 20\n",
            "5 x 5 = 25\n",
            "5 x 6 = 30\n",
            "5 x 7 = 35\n",
            "5 x 8 = 40\n",
            "5 x 9 = 45\n",
            "5 x 10 = 50\n"
          ],
          "name": "stdout"
        }
      ]
    },
    {
      "cell_type": "markdown",
      "metadata": {
        "id": "u6__NaXqzeYg",
        "colab_type": "text"
      },
      "source": [
        "Crie um algoritmo em Python que leia três números e mostre o maior e o menor deles."
      ]
    },
    {
      "cell_type": "code",
      "metadata": {
        "id": "mm2L7g3x0Cfx",
        "colab_type": "code",
        "outputId": "60211655-38dd-4805-cd38-1a34af3b3f83",
        "colab": {
          "base_uri": "https://localhost:8080/",
          "height": 85
        }
      },
      "source": [
        "# INSIRA SEU CÓDIGO AQUI\n",
        "\n",
        "x=int(input(\"Digite um número: \"))\n",
        "y=int(input(\"Digite um outro número: \"))\n",
        "z=int(input(\"Digite mais um número: \"))\n",
        "\n",
        "print(f'O maior número é {max(x,y,z)}, e o menor é {min(x,y,z)}')"
      ],
      "execution_count": 0,
      "outputs": [
        {
          "output_type": "stream",
          "text": [
            "Digite um número: 5\n",
            "Digite um outro número: 3\n",
            "Digite mais um número: 2\n",
            "O maior número é 5, e o menor é 2\n"
          ],
          "name": "stdout"
        }
      ]
    },
    {
      "cell_type": "markdown",
      "metadata": {
        "id": "lIlfG-ATzgOr",
        "colab_type": "text"
      },
      "source": [
        "Crie um algoritmo em Python que peça 2 números, base e expoente, calcule e mostre o primeiro número elevado ao segundo número. Não utilize a função de potência da linguagem."
      ]
    },
    {
      "cell_type": "code",
      "metadata": {
        "id": "-y4pB6br0DD_",
        "colab_type": "code",
        "outputId": "073b0f16-a0e9-4fb2-924a-ae810589815f",
        "colab": {
          "base_uri": "https://localhost:8080/",
          "height": 68
        }
      },
      "source": [
        "# INSIRA SEU CÓDIGO AQUI\n",
        "x=float(input(\"Digite um numero para a base: \"))\n",
        "y=float(input(\"Digite um numero para o expoente: \"))\n",
        "\n",
        "print(x**y)"
      ],
      "execution_count": 0,
      "outputs": [
        {
          "output_type": "stream",
          "text": [
            "Digite um numero para a base: 2\n",
            "Digite um numero para o expoente: 3\n",
            "8.0\n"
          ],
          "name": "stdout"
        }
      ]
    },
    {
      "cell_type": "markdown",
      "metadata": {
        "id": "Vj4OXsJQziu_",
        "colab_type": "text"
      },
      "source": [
        "Crie um algoritmo em Python que peça 10 números inteiros, calcule e mostre a quantidade de números pares e a quantidade de números impares."
      ]
    },
    {
      "cell_type": "code",
      "metadata": {
        "id": "RmApGpg30D00",
        "colab_type": "code",
        "outputId": "11ae1f1d-2077-4d36-ce8d-d66dba548dfd",
        "colab": {
          "base_uri": "https://localhost:8080/",
          "height": 221
        }
      },
      "source": [
        "# INSIRA SEU CÓDIGO AQUI\n",
        "lista=[]\n",
        "for i in range(10):\n",
        "  numero=int(input(\"Digite um numero qualquer: \"))\n",
        "  lista.append(numero)\n",
        "\n",
        "pares=0\n",
        "impares=0\n",
        "for n in lista:\n",
        "  if n%2==0:\n",
        "    pares+=1\n",
        "  else:\n",
        "    impares+=1\n",
        "\n",
        "print(f'A quantidade de números pares é {pares}.\\nA quantidade de números ímpares é {impares}')\n"
      ],
      "execution_count": 0,
      "outputs": [
        {
          "output_type": "stream",
          "text": [
            "Digite um numero qualquer: 2\n",
            "Digite um numero qualquer: 3\n",
            "Digite um numero qualquer: 4\n",
            "Digite um numero qualquer: 5\n",
            "Digite um numero qualquer: 6\n",
            "Digite um numero qualquer: 7\n",
            "Digite um numero qualquer: 8\n",
            "Digite um numero qualquer: 9\n",
            "Digite um numero qualquer: 10\n",
            "Digite um numero qualquer: 11\n",
            "A quantidade de números pares é 5.\n",
            "A quantidade de números ímpares é 5\n"
          ],
          "name": "stdout"
        }
      ]
    },
    {
      "cell_type": "markdown",
      "metadata": {
        "id": "e7id8Ewgzlow",
        "colab_type": "text"
      },
      "source": [
        "Um funcionário de uma empresa recebe aumento salarial anualmente: Sabe-se que:\n",
        "Esse funcionário foi contratado em 1995, com salário inicial de R$ 1.000,00;\n",
        "Em 1996 recebeu aumento de 1,5% sobre seu salário inicial;\n",
        "A partir de 1997 (inclusive), os aumentos salariais sempre correspondem ao dobro do percentual do ano anterior. Crie um algoritmo em Python que determine o salário atual desse funcionário. Após concluir isto, altere o programa permitindo que o usuário digite o salário inicial do funcionário."
      ]
    },
    {
      "cell_type": "code",
      "metadata": {
        "id": "Kl0ainsv0Eif",
        "colab_type": "code",
        "outputId": "9506fe6d-2e8b-40a8-d36d-7d10f3dba488",
        "colab": {
          "base_uri": "https://localhost:8080/",
          "height": 408
        }
      },
      "source": [
        "# INSIRA SEU CÓDIGO AQUI\n",
        "inicial=1000\n",
        "percentual=0.015\n",
        "ano=1997\n",
        "hoje=2020\n",
        "\n",
        "for i in range(1,23):\n",
        "  percentual=2*percentual\n",
        "  print(percentual)\n",
        "print(f'O salario atual é de {1000+percentual*inicial}')"
      ],
      "execution_count": 0,
      "outputs": [
        {
          "output_type": "stream",
          "text": [
            "0.03\n",
            "0.06\n",
            "0.12\n",
            "0.24\n",
            "0.48\n",
            "0.96\n",
            "1.92\n",
            "3.84\n",
            "7.68\n",
            "15.36\n",
            "30.72\n",
            "61.44\n",
            "122.88\n",
            "245.76\n",
            "491.52\n",
            "983.04\n",
            "1966.08\n",
            "3932.16\n",
            "7864.32\n",
            "15728.64\n",
            "31457.28\n",
            "62914.56\n",
            "O salario atual é de 62915560.0\n"
          ],
          "name": "stdout"
        }
      ]
    },
    {
      "cell_type": "markdown",
      "metadata": {
        "id": "5u9i4kzm-itX",
        "colab_type": "text"
      },
      "source": [
        "Crie um algoritmo em Python com uma função que necessite de um argumento. A função retorna o valor de caractere ‘P’, se seu argumento for positivo, e ‘N’, se seu argumento for zero ou negativo."
      ]
    },
    {
      "cell_type": "code",
      "metadata": {
        "id": "WNt8CLa2-rGt",
        "colab_type": "code",
        "outputId": "66948796-69c2-4a77-983b-d3824ae2748e",
        "colab": {
          "base_uri": "https://localhost:8080/",
          "height": 68
        }
      },
      "source": [
        "# INSIRA SEU CÓDIGO AQUI\n",
        "def vouf(n):\n",
        "  if n>0:\n",
        "    return \"P\"\n",
        "  else:\n",
        "    return \"N\"\n",
        "\n",
        "print(vouf(-2))\n",
        "print(vouf(-3))\n",
        "print(vouf(5))"
      ],
      "execution_count": 0,
      "outputs": [
        {
          "output_type": "stream",
          "text": [
            "N\n",
            "N\n",
            "P\n"
          ],
          "name": "stdout"
        }
      ]
    },
    {
      "cell_type": "markdown",
      "metadata": {
        "id": "CHiYMSOJ-rSY",
        "colab_type": "text"
      },
      "source": [
        "Construa uma função que receba uma data no formato DD/MM/AAAA e devolva uma string no formato D de mesPorExtenso de AAAA. Opcionalmente, valide a data e retorne NULL caso a data seja inválida."
      ]
    },
    {
      "cell_type": "code",
      "metadata": {
        "id": "6Ukxx6gQ-r4-",
        "colab_type": "code",
        "outputId": "70ccb3da-0885-4cb6-e876-19fc9e4bae4f",
        "colab": {
          "base_uri": "https://localhost:8080/",
          "height": 51
        }
      },
      "source": [
        "# INSIRA SEU CÓDIGO AQUI\n",
        "def transdata(data):\n",
        "  listames=[\"Janeiro\",'Fevereiro','Março','Abril','Maio','Junho','Julho','Agosto',\n",
        "                                       'Setembro','Outubro','Novembro','Dezembro']\n",
        "  index=int(data[3:5])-1\n",
        "  \n",
        "  dianovo=data[0:2]\n",
        "  mesnovo=listames[index]\n",
        "  ano=data[6:]\n",
        "  return dianovo+\" de \"+mesnovo+\" de \"+ano\n",
        "\n",
        "dia=input(\"Digite a data desejada (DD/MM/AAAA): \")\n",
        "print(transdata(dia))\n",
        "\n"
      ],
      "execution_count": 0,
      "outputs": [
        {
          "output_type": "stream",
          "text": [
            "Digite a data desejada (DD/MM/AAAA): 25/03/2020\n",
            "25 de Março de 2020\n"
          ],
          "name": "stdout"
        }
      ]
    },
    {
      "cell_type": "markdown",
      "metadata": {
        "id": "AzUYbZ8A-zj7",
        "colab_type": "text"
      },
      "source": [
        "Crie uma classe que modele uma pessoa:<br>\n",
        "\n",
        "Atributos: nome, idade, peso e altura<br>\n",
        "Métodos: Envelhercer, engordar, emagrecer, crescer.<br>\n",
        "<br>Obs: Por padrão, a cada ano que nossa pessoa envelhece, sendo a idade dela menor que 21 anos, ela deve crescer 0,5 cm."
      ]
    },
    {
      "cell_type": "code",
      "metadata": {
        "id": "qobhV-FC-zRS",
        "colab_type": "code",
        "outputId": "805a12ec-ae3f-4d57-86b3-1e58f0d9d99f",
        "colab": {
          "base_uri": "https://localhost:8080/",
          "height": 51
        }
      },
      "source": [
        "# INSIRA SEU CÓDIGO AQUI\n",
        "\n",
        "class Pessoa:\n",
        "  def __init__(self,nome,idade,peso,altura):\n",
        "    self.nome=nome\n",
        "    self.idade=idade\n",
        "    self.peso=peso\n",
        "    self.altura=altura\n",
        "  \n",
        "  def Envelhercer(self,anos):\n",
        "    if self.idade < 21:\n",
        "      self.altura+=anos*0.005\n",
        "    self.idade += anos\n",
        "    return self.idade\n",
        "  \n",
        "  def Engordar(self, kilos):\n",
        "    self.peso += kilos\n",
        "    return self.peso\n",
        "  \n",
        "  def Emagrecer(self, kilos):\n",
        "    self.peso -= kilos\n",
        "    return self.peso\n",
        "  \n",
        "  def Crescer(self, centimetro):\n",
        "    self.altura += centimeto\n",
        "    return self.altura\n",
        "  \n",
        "\n",
        "eu=Pessoa(\"Marcelo\",15,81,1.83)\n",
        "\n",
        "print(eu.Envelhercer(10))\n",
        "print(eu.altura)\n",
        "    "
      ],
      "execution_count": 0,
      "outputs": [
        {
          "output_type": "stream",
          "text": [
            "25\n",
            "1.8800000000000001\n"
          ],
          "name": "stdout"
        }
      ]
    }
  ]
}