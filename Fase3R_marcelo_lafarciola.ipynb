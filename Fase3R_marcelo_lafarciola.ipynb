{
  "nbformat": 4,
  "nbformat_minor": 0,
  "metadata": {
    "colab": {
      "name": "Fase3R_marcelo_lafarciola.ipynb",
      "provenance": [],
      "collapsed_sections": [],
      "include_colab_link": true
    },
    "kernelspec": {
      "name": "ir",
      "display_name": "R"
    }
  },
  "cells": [
    {
      "cell_type": "markdown",
      "metadata": {
        "id": "view-in-github",
        "colab_type": "text"
      },
      "source": [
        "<a href=\"https://colab.research.google.com/github/lafarciola/Maratona-Data-Science-QODA/blob/master/Fase3R_marcelo_lafarciola.ipynb\" target=\"_parent\"><img src=\"https://colab.research.google.com/assets/colab-badge.svg\" alt=\"Open In Colab\"/></a>"
      ]
    },
    {
      "cell_type": "markdown",
      "metadata": {
        "id": "Z2Kl9pfj0JKM",
        "colab_type": "text"
      },
      "source": [
        "# Seja ensinável e execute as tarefas compartilhadas. Por fins didáticos e para melhor separação mental das sintaxes Python/R, realizaremos todos os exercícios de Python em R.\n",
        "![alt text](https://media0.giphy.com/media/pheOCmHVZehjy/source.gif)"
      ]
    },
    {
      "cell_type": "markdown",
      "metadata": {
        "id": "Y7enDOmAEdmo",
        "colab_type": "text"
      },
      "source": [
        "## Utilize apenas funções e pacotes R para os desafios abaixo\n",
        "#### Skills principais trabalhadas: tolerância a frustração, pesquisa, auto-didatismo, compreensão de texto, lógica de programação e leitura de documentação(pacotes)."
      ]
    },
    {
      "cell_type": "markdown",
      "metadata": {
        "id": "j9ZuOU7Kyh9O",
        "colab_type": "text"
      },
      "source": [
        "Faça a leitura de um dataset(conjunto de dados) do Rbase e mostre as primeiras linhas deste dataset"
      ]
    },
    {
      "cell_type": "code",
      "metadata": {
        "id": "tlFupLd-ydTB",
        "colab_type": "code",
        "outputId": "047d9a6e-e217-43f7-9f3c-f346e336a397",
        "colab": {
          "base_uri": "https://localhost:8080/",
          "height": 158
        }
      },
      "source": [
        "# INSIRA SEU CÓDIGO AQUI\n",
        "library(datasets)\n",
        "\n",
        "head(cars,3)\n"
      ],
      "execution_count": 0,
      "outputs": [
        {
          "output_type": "display_data",
          "data": {
            "text/plain": [
              "  speed dist\n",
              "1 4      2  \n",
              "2 4     10  \n",
              "3 7      4  "
            ],
            "text/latex": "A data.frame: 3 × 2\n\\begin{tabular}{r|ll}\n  & speed & dist\\\\\n  & <dbl> & <dbl>\\\\\n\\hline\n\t1 & 4 &  2\\\\\n\t2 & 4 & 10\\\\\n\t3 & 7 &  4\\\\\n\\end{tabular}\n",
            "text/markdown": "\nA data.frame: 3 × 2\n\n| <!--/--> | speed &lt;dbl&gt; | dist &lt;dbl&gt; |\n|---|---|---|\n| 1 | 4 |  2 |\n| 2 | 4 | 10 |\n| 3 | 7 |  4 |\n\n",
            "text/html": [
              "<table>\n",
              "<caption>A data.frame: 3 × 2</caption>\n",
              "<thead>\n",
              "\t<tr><th></th><th scope=col>speed</th><th scope=col>dist</th></tr>\n",
              "\t<tr><th></th><th scope=col>&lt;dbl&gt;</th><th scope=col>&lt;dbl&gt;</th></tr>\n",
              "</thead>\n",
              "<tbody>\n",
              "\t<tr><th scope=row>1</th><td>4</td><td> 2</td></tr>\n",
              "\t<tr><th scope=row>2</th><td>4</td><td>10</td></tr>\n",
              "\t<tr><th scope=row>3</th><td>7</td><td> 4</td></tr>\n",
              "</tbody>\n",
              "</table>\n"
            ]
          },
          "metadata": {
            "tags": []
          }
        }
      ]
    },
    {
      "cell_type": "markdown",
      "metadata": {
        "id": "3Yr1zAKdFRy-",
        "colab_type": "text"
      },
      "source": [
        "Faça a leitura de um dataset(conjunto de dados) do Rbase e mostre as últimas linhas deste dataset"
      ]
    },
    {
      "cell_type": "code",
      "metadata": {
        "id": "hkJTCQmKFVfE",
        "colab_type": "code",
        "outputId": "3b2a11ee-cb39-4d7d-8914-26dbe6a838e2",
        "colab": {
          "base_uri": "https://localhost:8080/",
          "height": 305
        }
      },
      "source": [
        "# INSIRA SEU CÓDIGO AQUI\n",
        "library(datasets)\n",
        "tail(cars,10)"
      ],
      "execution_count": 0,
      "outputs": [
        {
          "output_type": "display_data",
          "data": {
            "text/plain": [
              "   speed dist\n",
              "41 20     52 \n",
              "42 20     56 \n",
              "43 20     64 \n",
              "44 22     66 \n",
              "45 23     54 \n",
              "46 24     70 \n",
              "47 24     92 \n",
              "48 24     93 \n",
              "49 24    120 \n",
              "50 25     85 "
            ],
            "text/latex": "A data.frame: 10 × 2\n\\begin{tabular}{r|ll}\n  & speed & dist\\\\\n  & <dbl> & <dbl>\\\\\n\\hline\n\t41 & 20 &  52\\\\\n\t42 & 20 &  56\\\\\n\t43 & 20 &  64\\\\\n\t44 & 22 &  66\\\\\n\t45 & 23 &  54\\\\\n\t46 & 24 &  70\\\\\n\t47 & 24 &  92\\\\\n\t48 & 24 &  93\\\\\n\t49 & 24 & 120\\\\\n\t50 & 25 &  85\\\\\n\\end{tabular}\n",
            "text/markdown": "\nA data.frame: 10 × 2\n\n| <!--/--> | speed &lt;dbl&gt; | dist &lt;dbl&gt; |\n|---|---|---|\n| 41 | 20 |  52 |\n| 42 | 20 |  56 |\n| 43 | 20 |  64 |\n| 44 | 22 |  66 |\n| 45 | 23 |  54 |\n| 46 | 24 |  70 |\n| 47 | 24 |  92 |\n| 48 | 24 |  93 |\n| 49 | 24 | 120 |\n| 50 | 25 |  85 |\n\n",
            "text/html": [
              "<table>\n",
              "<caption>A data.frame: 10 × 2</caption>\n",
              "<thead>\n",
              "\t<tr><th></th><th scope=col>speed</th><th scope=col>dist</th></tr>\n",
              "\t<tr><th></th><th scope=col>&lt;dbl&gt;</th><th scope=col>&lt;dbl&gt;</th></tr>\n",
              "</thead>\n",
              "<tbody>\n",
              "\t<tr><th scope=row>41</th><td>20</td><td> 52</td></tr>\n",
              "\t<tr><th scope=row>42</th><td>20</td><td> 56</td></tr>\n",
              "\t<tr><th scope=row>43</th><td>20</td><td> 64</td></tr>\n",
              "\t<tr><th scope=row>44</th><td>22</td><td> 66</td></tr>\n",
              "\t<tr><th scope=row>45</th><td>23</td><td> 54</td></tr>\n",
              "\t<tr><th scope=row>46</th><td>24</td><td> 70</td></tr>\n",
              "\t<tr><th scope=row>47</th><td>24</td><td> 92</td></tr>\n",
              "\t<tr><th scope=row>48</th><td>24</td><td> 93</td></tr>\n",
              "\t<tr><th scope=row>49</th><td>24</td><td>120</td></tr>\n",
              "\t<tr><th scope=row>50</th><td>25</td><td> 85</td></tr>\n",
              "</tbody>\n",
              "</table>\n"
            ]
          },
          "metadata": {
            "tags": []
          }
        }
      ]
    },
    {
      "cell_type": "markdown",
      "metadata": {
        "id": "3MY8QLnuFVoX",
        "colab_type": "text"
      },
      "source": [
        "Utilizando uma função Rbase, abra um dataset contido em sua própria máquina."
      ]
    },
    {
      "cell_type": "code",
      "metadata": {
        "id": "30lZbqcfFgiH",
        "colab_type": "code",
        "outputId": "8481635c-26e3-45d9-c2e0-172be880ef26",
        "colab": {
          "base_uri": "https://localhost:8080/",
          "height": 231
        }
      },
      "source": [
        "# INSIRA SEU CÓDIGO AQUI\n",
        "imprimir <- read.csv(\"C:\\\\Users\\\\lafar\\\\OneDrive\\\\Imprimire\\\\Custos3d.csv\", header=T, sep=\";\")"
      ],
      "execution_count": 0,
      "outputs": [
        {
          "output_type": "stream",
          "text": [
            "Warning message in file(file, \"rt\"):\n",
            "“cannot open file 'C:\\Users\\lafar\\OneDrive\\Imprimire\\Custos3d.csv': No such file or directory”\n"
          ],
          "name": "stderr"
        },
        {
          "output_type": "error",
          "ename": "ERROR",
          "evalue": "ignored",
          "traceback": [
            "Error in file(file, \"rt\"): cannot open the connection\nTraceback:\n",
            "1. read.csv(\"C:\\\\Users\\\\lafar\\\\OneDrive\\\\Imprimire\\\\Custos3d.csv\", \n .     header = T, sep = \";\")",
            "2. read.table(file = file, header = header, sep = sep, quote = quote, \n .     dec = dec, fill = fill, comment.char = comment.char, ...)",
            "3. file(file, \"rt\")"
          ]
        }
      ]
    },
    {
      "cell_type": "markdown",
      "metadata": {
        "id": "6xyDmufwFgtS",
        "colab_type": "text"
      },
      "source": [
        "Crie uma função que recebe 2 parâmetros e retorna o maior valor destes."
      ]
    },
    {
      "cell_type": "code",
      "metadata": {
        "id": "X6k1tzNWFxMM",
        "colab_type": "code",
        "outputId": "d8d4f0ac-0e10-49ce-d111-ffc8c2f4bf59",
        "colab": {
          "base_uri": "https://localhost:8080/",
          "height": 34
        }
      },
      "source": [
        "# INSIRA SEU CÓDIGO AQUI\n",
        "moum <- function(mais,menos){\n",
        "  x <- max(c(mais,menos))\n",
        "  y <- min(c(mais,menos))\n",
        "  result <- sprintf('O valor máximo é de %d, e o mínimo é de %d',x,y)\n",
        "  return (result)\n",
        "    \n",
        "  \n",
        "}\n",
        "\n",
        "print(moum(6,7))"
      ],
      "execution_count": 0,
      "outputs": [
        {
          "output_type": "stream",
          "text": [
            "[1] \"O valor máximo é de 7, e o mínimo é de 6\"\n"
          ],
          "name": "stdout"
        }
      ]
    },
    {
      "cell_type": "markdown",
      "metadata": {
        "id": "NWlYA5_sFx5w",
        "colab_type": "text"
      },
      "source": [
        "Crie ou abra um dataset e na sequência, faça plotagem das features em um gráfico de barras."
      ]
    },
    {
      "cell_type": "code",
      "metadata": {
        "id": "HMr2U0I8F-zM",
        "colab_type": "code",
        "outputId": "065efd0b-6700-48cb-e36b-c4db5c12fa72",
        "colab": {
          "base_uri": "https://localhost:8080/",
          "height": 437
        }
      },
      "source": [
        "# INSIRA SEU CÓDIGO AQUI\n",
        "library(ggplot2)\n",
        "\n",
        "ggplot(head(cpus,10), aes(x=name, y=estperf)) + geom_bar(stat=\"identity\",fill=\"steelblue\")"
      ],
      "execution_count": 0,
      "outputs": [
        {
          "output_type": "display_data",
          "data": {
            "image/png": "[encoded data removed]",
            "text/plain": [
              "plot without title"
            ]
          },
          "metadata": {
            "tags": [],
            "image/png": {
              "width": 420,
              "height": 420
            },
            "text/plain": {
              "width": 420,
              "height": 420
            }
          }
        }
      ]
    },
    {
      "cell_type": "markdown",
      "metadata": {
        "id": "3ua79PyZGTOB",
        "colab_type": "text"
      },
      "source": [
        "Com o dataset abaixo carregado, realize os exercícios seguintes:"
      ]
    },
    {
      "cell_type": "code",
      "metadata": {
        "id": "s3xbysLTGS7S",
        "colab_type": "code",
        "colab": {}
      },
      "source": [
        "enderecos <- c(\"Rua Marcelino 851, São Paulo\", \"Avenida Voluntários da Pátria 367, Curitiba\", \"Rua do corcovado 198, Rio de janeiro\")\n",
        "produtos <- c(\"TV\", \"notebooks\", \"GPU\", \"mouses\", \"Teclado\")\n",
        "sentencas <- stringr::sentences[1:10]\n",
        "campos <- c(\"order_number\", \"order_date\", \"customer_email\", \"product_title\", \"amount\")\n",
        "skills <- c(\"João Silva (jr)\", \"Rita Cadillac (senior)\", \"Chris Brown (senior)\", \"Sara Sarali (pleno)\")"
      ],
      "execution_count": 0,
      "outputs": []
    },
    {
      "cell_type": "markdown",
      "metadata": {
        "id": "oIARcRAyHn2N",
        "colab_type": "text"
      },
      "source": [
        "Normalize o vetor de endereços substituindo letras maiúsculas por minúsculas."
      ]
    },
    {
      "cell_type": "code",
      "metadata": {
        "id": "TS6qkcK-HqRx",
        "colab_type": "code",
        "outputId": "39138d04-43b9-4bde-ee7e-8ee03f9d3ed7",
        "colab": {
          "base_uri": "https://localhost:8080/",
          "height": 96
        }
      },
      "source": [
        "# INSIRA SEU CÓDIGO AQUI\n",
        "as.list(tolower(enderecos))"
      ],
      "execution_count": 0,
      "outputs": [
        {
          "output_type": "display_data",
          "data": {
            "text/plain": [
              "[[1]]\n",
              "[1] \"rua marcelino 851, são paulo\"\n",
              "\n",
              "[[2]]\n",
              "[1] \"avenida voluntários da pátria 367, curitiba\"\n",
              "\n",
              "[[3]]\n",
              "[1] \"rua do corcovado 198, rio de janeiro\"\n"
            ],
            "text/latex": "\\begin{enumerate}\n\\item 'rua marcelino 851, são paulo'\n\\item 'avenida voluntários da pátria 367, curitiba'\n\\item 'rua do corcovado 198, rio de janeiro'\n\\end{enumerate}\n",
            "text/markdown": "1. 'rua marcelino 851, são paulo'\n2. 'avenida voluntários da pátria 367, curitiba'\n3. 'rua do corcovado 198, rio de janeiro'\n\n\n",
            "text/html": [
              "<ol>\n",
              "\t<li>'rua marcelino 851, são paulo'</li>\n",
              "\t<li>'avenida voluntários da pátria 367, curitiba'</li>\n",
              "\t<li>'rua do corcovado 198, rio de janeiro'</li>\n",
              "</ol>\n"
            ]
          },
          "metadata": {
            "tags": []
          }
        }
      ]
    },
    {
      "cell_type": "markdown",
      "metadata": {
        "id": "EHmTOtNaHqfc",
        "colab_type": "text"
      },
      "source": [
        "Puxe apenas a parte numérica do vetor de endereços."
      ]
    },
    {
      "cell_type": "code",
      "metadata": {
        "id": "1qQJ4NmMHtgM",
        "colab_type": "code",
        "outputId": "e25c0036-07a5-4c98-a03b-48b2e6da62f0",
        "colab": {
          "base_uri": "https://localhost:8080/",
          "height": 68
        }
      },
      "source": [
        "# INSIRA SEU CÓDIGO AQUI\n",
        "library(tidyr)\n",
        "extract_numeric(enderecos)"
      ],
      "execution_count": 0,
      "outputs": [
        {
          "output_type": "stream",
          "text": [
            "extract_numeric() is deprecated: please use readr::parse_number() instead\n",
            "\n"
          ],
          "name": "stderr"
        },
        {
          "output_type": "display_data",
          "data": {
            "text/plain": [
              "[1] 851 367 198"
            ],
            "text/latex": "\\begin{enumerate*}\n\\item 851\n\\item 367\n\\item 198\n\\end{enumerate*}\n",
            "text/markdown": "1. 851\n2. 367\n3. 198\n\n\n",
            "text/html": [
              "<style>\n",
              ".list-inline {list-style: none; margin:0; padding: 0}\n",
              ".list-inline>li {display: inline-block}\n",
              ".list-inline>li:not(:last-child)::after {content: \"\\00b7\"; padding: 0 .5ex}\n",
              "</style>\n",
              "<ol class=list-inline><li>851</li><li>367</li><li>198</li></ol>\n"
            ]
          },
          "metadata": {
            "tags": []
          }
        }
      ]
    },
    {
      "cell_type": "markdown",
      "metadata": {
        "id": "pRY89c-dHyPC",
        "colab_type": "text"
      },
      "source": [
        "Divida o vetor de endereços em duas partes: endereço e cidade. O resultado deve ser uma matriz."
      ]
    },
    {
      "cell_type": "code",
      "metadata": {
        "id": "e8MPIMUUHyXq",
        "colab_type": "code",
        "outputId": "7c93b030-a89f-451b-fe7e-09504679b266",
        "colab": {
          "base_uri": "https://localhost:8080/",
          "height": 141
        }
      },
      "source": [
        "# INSIRA SEU CÓDIGO AQUI\n",
        "library(dplyr)\n",
        "enderecos <- as.data.frame(enderecos)\n",
        "enderecos %>% separate(enderecos, c(\"endereço\",\"cidade\"), sep = ',')"
      ],
      "execution_count": 0,
      "outputs": [
        {
          "output_type": "display_data",
          "data": {
            "text/plain": [
              "  endereço                          cidade         \n",
              "1 Rua Marcelino 851                  São Paulo     \n",
              "2 Avenida Voluntários da Pátria 367  Curitiba      \n",
              "3 Rua do corcovado 198               Rio de janeiro"
            ],
            "text/latex": "A data.frame: 3 × 2\n\\begin{tabular}{ll}\n endereço & cidade\\\\\n <chr> & <chr>\\\\\n\\hline\n\t Rua Marcelino 851                 &  São Paulo     \\\\\n\t Avenida Voluntários da Pátria 367 &  Curitiba      \\\\\n\t Rua do corcovado 198              &  Rio de janeiro\\\\\n\\end{tabular}\n",
            "text/markdown": "\nA data.frame: 3 × 2\n\n| endereço &lt;chr&gt; | cidade &lt;chr&gt; |\n|---|---|\n| Rua Marcelino 851                 |  São Paulo      |\n| Avenida Voluntários da Pátria 367 |  Curitiba       |\n| Rua do corcovado 198              |  Rio de janeiro |\n\n",
            "text/html": [
              "<table>\n",
              "<caption>A data.frame: 3 × 2</caption>\n",
              "<thead>\n",
              "\t<tr><th scope=col>endereço</th><th scope=col>cidade</th></tr>\n",
              "\t<tr><th scope=col>&lt;chr&gt;</th><th scope=col>&lt;chr&gt;</th></tr>\n",
              "</thead>\n",
              "<tbody>\n",
              "\t<tr><td>Rua Marcelino 851                </td><td> São Paulo     </td></tr>\n",
              "\t<tr><td>Avenida Voluntários da Pátria 367</td><td> Curitiba      </td></tr>\n",
              "\t<tr><td>Rua do corcovado 198             </td><td> Rio de janeiro</td></tr>\n",
              "</tbody>\n",
              "</table>\n"
            ]
          },
          "metadata": {
            "tags": []
          }
        }
      ]
    },
    {
      "cell_type": "markdown",
      "metadata": {
        "id": "1nNzBOBhIAo4",
        "colab_type": "text"
      },
      "source": [
        "Normalize o vetor \"produtos\" removendo todos os espaços em branco desnecessários (início, meio e fim), capitalizando todas as letras."
      ]
    },
    {
      "cell_type": "code",
      "metadata": {
        "id": "jCLZSbriIXKh",
        "colab_type": "code",
        "outputId": "8a623d2f-d2b3-41b9-e520-db75135b7ec9",
        "colab": {
          "base_uri": "https://localhost:8080/",
          "height": 130
        }
      },
      "source": [
        "# INSIRA SEU CÓDIGO AQUI\n",
        "as.list(produtos <- produtos %>% trimws %>% toupper)\n"
      ],
      "execution_count": 0,
      "outputs": [
        {
          "output_type": "display_data",
          "data": {
            "text/plain": [
              "[[1]]\n",
              "[1] \"TV\"\n",
              "\n",
              "[[2]]\n",
              "[1] \"NOTEBOOKS\"\n",
              "\n",
              "[[3]]\n",
              "[1] \"GPU\"\n",
              "\n",
              "[[4]]\n",
              "[1] \"MOUSES\"\n",
              "\n",
              "[[5]]\n",
              "[1] \"TECLADO\"\n"
            ],
            "text/latex": "\\begin{enumerate}\n\\item 'TV'\n\\item 'NOTEBOOKS'\n\\item 'GPU'\n\\item 'MOUSES'\n\\item 'TECLADO'\n\\end{enumerate}\n",
            "text/markdown": "1. 'TV'\n2. 'NOTEBOOKS'\n3. 'GPU'\n4. 'MOUSES'\n5. 'TECLADO'\n\n\n",
            "text/html": [
              "<ol>\n",
              "\t<li>'TV'</li>\n",
              "\t<li>'NOTEBOOKS'</li>\n",
              "\t<li>'GPU'</li>\n",
              "\t<li>'MOUSES'</li>\n",
              "\t<li>'TECLADO'</li>\n",
              "</ol>\n"
            ]
          },
          "metadata": {
            "tags": []
          }
        }
      ]
    }
  ]
}