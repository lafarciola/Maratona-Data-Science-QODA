{
  "nbformat": 4,
  "nbformat_minor": 0,
  "metadata": {
    "colab": {
      "name": "Fase2R_Marcelo Lafarciola.ipynb",
      "provenance": [],
      "collapsed_sections": [],
      "include_colab_link": true
    },
    "kernelspec": {
      "name": "ir",
      "display_name": "R"
    }
  },
  "cells": [
    {
      "cell_type": "markdown",
      "metadata": {
        "id": "view-in-github",
        "colab_type": "text"
      },
      "source": [
        "<a href=\"https://colab.research.google.com/github/lafarciola/Maratona-Data-Science-QODA/blob/master/Fase2R_Marcelo_Lafarciola.ipynb\" target=\"_parent\"><img src=\"https://colab.research.google.com/assets/colab-badge.svg\" alt=\"Open In Colab\"/></a>"
      ]
    },
    {
      "cell_type": "markdown",
      "metadata": {
        "id": "Z2Kl9pfj0JKM",
        "colab_type": "text"
      },
      "source": [
        "# Seja ensinável e execute as tarefas compartilhadas. Por fins didáticos e para melhor separação mental das sintaxes Python/R, realizaremos todos os exercícios de Python em R.\n",
        "![alt text](https://media.tenor.com/images/51e469036910eb2ece677863200af5a8/tenor.gif)"
      ]
    },
    {
      "cell_type": "markdown",
      "metadata": {
        "id": "j9ZuOU7Kyh9O",
        "colab_type": "text"
      },
      "source": [
        "Crie um algoritmo em R que peça uma nota, entre 0 e 100. Mostre uma mensagem caso o valor seja inválido e continue pedindo até que o usuário informe um valor válido."
      ]
    },
    {
      "cell_type": "code",
      "metadata": {
        "id": "tlFupLd-ydTB",
        "colab_type": "code",
        "colab": {}
      },
      "source": [
        "# INSIRA SEU CÓDIGO AQUI\n",
        "\n",
        "repeat{\n",
        "  nota <- as.integer(readline(\"Digite uma nota de 0 a 100: \"))\n",
        "  if(nota>0 && nota<100){\n",
        "    print(\"Correto\")\n",
        "    break\n",
        "  }\n",
        "  else\n",
        "    print(\"Valor inválido, tente novamente.\")\n",
        "    \n",
        "  \n",
        "  \n",
        "}"
      ],
      "execution_count": 0,
      "outputs": []
    },
    {
      "cell_type": "markdown",
      "metadata": {
        "id": "yhw2owA-zbrn",
        "colab_type": "text"
      },
      "source": [
        "Crie um algoritmo em R que leia um nome de usuário e a sua senha e não aceite a senha igual ao nome do usuário, mostrando uma mensagem de erro e voltando a pedir as informações.<br>"
      ]
    },
    {
      "cell_type": "code",
      "metadata": {
        "id": "RJJtXkvV0qzj",
        "colab_type": "code",
        "colab": {
          "base_uri": "https://localhost:8080/",
          "height": 170
        },
        "outputId": "d1c902bb-960c-46cb-f4e9-bbe328ee5610"
      },
      "source": [
        "# INSIRA SEU CÓDIGO AQUI\n",
        "login <- as.character(readline(\"Digite seu usuário: \"))\n",
        "senha <- as.character(readline(\"Digite sua senha: \"))\n",
        "print(c(login,senha))\n",
        "\n",
        "while (TRUE){\n",
        "  if(login==senha){\n",
        "    print(\"Sua senha não pode conter seu nome.\")\n",
        "    flush.console()\n",
        "    login <- as.character(readline(\"Digite seu usuário: \"))\n",
        "    senha <- as.character(readline(\"Digite sua senha: \"))\n",
        "  }else{\n",
        "    FALSE\n",
        "  }\n",
        "}\n",
        "  "
      ],
      "execution_count": 63,
      "outputs": [
        {
          "output_type": "stream",
          "text": [
            "Digite seu usuário: marcelo\n",
            "Digite sua senha: marcelo\n",
            "[1] \"marcelo\" \"marcelo\"\n",
            "[1] \"Sua senha não pode conter seu nome.\"\n",
            "Digite seu usuário: marcelo\n",
            "Digite sua senha: marcelo\n",
            "[1] \"Sua senha não pode conter seu nome.\"\n",
            "Digite seu usuário: marcelo\n",
            "Digite sua senha: laura\n"
          ],
          "name": "stdout"
        }
      ]
    },
    {
      "cell_type": "markdown",
      "metadata": {
        "id": "35RwPIIF0w3i",
        "colab_type": "text"
      },
      "source": [
        "Crie um algoritmo em R que leia e valide as seguintes informações:\n",
        "* Nome: maior que 3 caracteres;\n",
        "* Idade: entre 0 e 150;\n",
        "* Salário: maior que zero;\n",
        "* Sexo: 'f' ou 'm';\n",
        "* Estado Civil: 's', 'c', 'v', 'd';"
      ]
    },
    {
      "cell_type": "code",
      "metadata": {
        "id": "NEFu-8L808HB",
        "colab_type": "code",
        "colab": {
          "base_uri": "https://localhost:8080/",
          "height": 136
        },
        "outputId": "6495b5c2-f2a8-4849-c629-dc4dd99744f2"
      },
      "source": [
        "# INSIRA SEU CÓDIGO AQUI\n",
        "nome <- as.character(readline(\"Digite seu nome: \"))\n",
        "idade <- as.integer(readline(\"Digite a sua idade: \"))\n",
        "salario <- as.numeric(readline(\"Digite o seu salário: \"))\n",
        "sexo <- readline(\"Digite o seu sexo: \")\n",
        "estadoc <- readline(\"Digite o seu estado civil: \")\n",
        "\n",
        "while (TRUE){\n",
        "  if (nchar(nome)<3){\n",
        "    print(\"Digite um nome com mais de 3 letras.\")\n",
        "    flush.console()\n",
        "    nome <- as.character(readline(\"Digite seu nome: \"))\n",
        "  }else{\n",
        "    FALSE\n",
        "  }\n",
        "  while (TRUE){\n",
        "  if ((idade > 150 ) || (idade < 0)){\n",
        "    print(\"Digite uma idade válida.\")\n",
        "    flush.console()\n",
        "    idade <- as.integer(readline(\"Digite a sua idade: \"))\n",
        "  }else{\n",
        "    FALSE\n",
        "  }\n",
        "  while (TRUE){\n",
        "  if ((salario < 0)){\n",
        "    print(\"Digite um salario maior que 0.\")\n",
        "    flush.console()\n",
        "    salario <- as.numeric(readline(\"Digite o seu salário: \"))\n",
        "  }else{\n",
        "    FALSE\n",
        "  }\n",
        "  while (TRUE){\n",
        "  if ((substr(sexo, 1, 1)) != \"m\" && (substring(sexo, 1, 1)) != \"f\"){\n",
        "    print(\"Digite um sexo válido.\")  \n",
        "    flush.console()  \n",
        "    sexo <- readline(\"Digite o seu sexo: \")\n",
        "  }else{\n",
        "    FALSE\n",
        "  }\n",
        "  while (TRUE){\n",
        "  if ((substr(estadoc, 1, 1)) != \"s\" && (substr(estadoc, 1, 1)) != \"c\" &&\n",
        "      (substr(estadoc, 1, 1)) != \"v\" && (substr(estadoc, 1, 1)) != \"d\"){\n",
        "    print(\"Digite um estado civil válido.\")  \n",
        "    flush.console()  \n",
        "    estadoc <- readline(\"Digite o seu estado civil: \")\n",
        "  }else{\n",
        "    FALSE\n",
        "  }\n",
        "}\n",
        "}\n",
        "}\n",
        "}\n",
        "}"
      ],
      "execution_count": 116,
      "outputs": [
        {
          "output_type": "stream",
          "text": [
            "Digite seu nome: marcelo\n",
            "Digite a sua idade: 20\n",
            "Digite o seu salário: 200\n",
            "Digite o seu sexo: masculino\n",
            "Digite o seu estado civil: lia\n",
            "[1] \"Digite um estado civil válido.\"\n",
            "Digite o seu estado civil: solteiro\n"
          ],
          "name": "stdout"
        }
      ]
    },
    {
      "cell_type": "markdown",
      "metadata": {
        "id": "kP9TOwKo1AnS",
        "colab_type": "text"
      },
      "source": [
        "Desenvolva um gerador de tabuada, capaz de gerar a tabuada de qualquer número inteiro entre 1 a 10. O usuário deve informar de qual numero ele deseja ver a tabuada. A saída deve ser conforme o exemplo abaixo:\n",
        "Tabuada de 5:<br>\n",
        "5 X 1 = 5<br>\n",
        "5 X 2 = 10<br>\n",
        "...<br>\n",
        "5 X 10 = 50<br>"
      ]
    },
    {
      "cell_type": "code",
      "metadata": {
        "id": "Tj5xsjC-1D5I",
        "colab_type": "code",
        "colab": {
          "base_uri": "https://localhost:8080/",
          "height": 204
        },
        "outputId": "fa2b689f-932e-47fa-e265-e8f5560854a8"
      },
      "source": [
        "# INSIRA SEU CÓDIGO AQUI\n",
        "x <- as.integer(readline(\"Digite o número desejado para a tabuada: \"))\n",
        "\n",
        "for (tab in 1:10){\n",
        "  numero=tab*x\n",
        "  print(sprintf(\"%i x %i = %i\",x,tab,numero))\n",
        "\n",
        "}\n"
      ],
      "execution_count": 138,
      "outputs": [
        {
          "output_type": "stream",
          "text": [
            "Digite o número desejado para a tabuada: 4\n",
            "[1] \"4 x 1 = 4\"\n",
            "[1] \"4 x 2 = 8\"\n",
            "[1] \"4 x 3 = 12\"\n",
            "[1] \"4 x 4 = 16\"\n",
            "[1] \"4 x 5 = 20\"\n",
            "[1] \"4 x 6 = 24\"\n",
            "[1] \"4 x 7 = 28\"\n",
            "[1] \"4 x 8 = 32\"\n",
            "[1] \"4 x 9 = 36\"\n",
            "[1] \"4 x 10 = 40\"\n"
          ],
          "name": "stdout"
        }
      ]
    },
    {
      "cell_type": "markdown",
      "metadata": {
        "id": "6vgD9pl81EGd",
        "colab_type": "text"
      },
      "source": [
        "Crie um algoritmo em R que leia três números e mostre o maior e o menor deles."
      ]
    },
    {
      "cell_type": "code",
      "metadata": {
        "id": "3h1VOEuR1KGz",
        "colab_type": "code",
        "colab": {
          "base_uri": "https://localhost:8080/",
          "height": 102
        },
        "outputId": "70991a17-133a-42b3-bb10-5cb1c9109aa0"
      },
      "source": [
        "# INSIRA SEU CÓDIGO AQUI\n",
        "x <- as.integer(readline(\"Digite um número:\"))\n",
        "y <- as.integer(readline(\"Digite um outro número:\"))\n",
        "z <- as.integer(readline(\"Digite um outro número:\"))\n",
        "\n",
        "print(max(c(x,y,z)))\n",
        "print(min(c(x,y,z)))"
      ],
      "execution_count": 142,
      "outputs": [
        {
          "output_type": "stream",
          "text": [
            "Digite um número:3\n",
            "Digite um outro número:5\n",
            "Digite um outro número:9\n",
            "[1] 9\n",
            "[1] 3\n"
          ],
          "name": "stdout"
        }
      ]
    },
    {
      "cell_type": "markdown",
      "metadata": {
        "id": "QXhvPnMQ1Kd6",
        "colab_type": "text"
      },
      "source": [
        "Crie um algoritmo em R que peça 2 números, base e expoente, calcule e mostre o primeiro número elevado ao segundo número. Não utilize a função de potência da linguagem."
      ]
    },
    {
      "cell_type": "code",
      "metadata": {
        "id": "ywZkuhmt1N7l",
        "colab_type": "code",
        "colab": {
          "base_uri": "https://localhost:8080/",
          "height": 68
        },
        "outputId": "51bab79d-778f-42a5-dd15-e7378e278036"
      },
      "source": [
        "# INSIRA SEU CÓDIGO AQUI\n",
        "base <- as.numeric(readline(\"Digite um número para a base: \"))\n",
        "expoente <- as.numeric(readline(\"Digite um número para o expoente: \"))\n",
        "\n",
        "valor=base**expoente\n",
        "print(valor)"
      ],
      "execution_count": 145,
      "outputs": [
        {
          "output_type": "stream",
          "text": [
            "Digite um número para a base: 2\n",
            "Digite um número para o expoente: 3\n",
            "[1] 8\n"
          ],
          "name": "stdout"
        }
      ]
    },
    {
      "cell_type": "markdown",
      "metadata": {
        "id": "F-rpjggB1T5G",
        "colab_type": "text"
      },
      "source": [
        "Crie um algoritmo em R que peça 10 números inteiros, calcule e mostre a quantidade de números pares e a quantidade de números impares."
      ]
    },
    {
      "cell_type": "code",
      "metadata": {
        "id": "nvMchfOZ2_vC",
        "colab_type": "code",
        "colab": {
          "base_uri": "https://localhost:8080/",
          "height": 221
        },
        "outputId": "287d9ff1-689b-4bcf-e834-50138505783b"
      },
      "source": [
        "# INSIRA SEU CÓDIGO AQUI\n",
        "listanum <- c()\n",
        "\n",
        "for (i in 1:10){\n",
        "  x <- as.numeric(readline(\"Digite um número: \"))\n",
        "  listanum <- append(listanum,x)\n",
        "}\n",
        "\n",
        "par=0\n",
        "imp=0\n",
        "for (i in listanum){\n",
        "  if(i %% 2 ==0){\n",
        "    par=par+1\n",
        "  }else{\n",
        "    imp=imp+1\n",
        "  }\n",
        "}\n",
        "print(par)\n",
        "print(imp)"
      ],
      "execution_count": 157,
      "outputs": [
        {
          "output_type": "stream",
          "text": [
            "Digite um número: 1\n",
            "Digite um número: 2\n",
            "Digite um número: 3\n",
            "Digite um número: 4\n",
            "Digite um número: 5\n",
            "Digite um número: 6\n",
            "Digite um número: 7\n",
            "Digite um número: 8\n",
            "Digite um número: 9\n",
            "Digite um número: 10\n",
            "[1] 5\n",
            "[1] 5\n"
          ],
          "name": "stdout"
        }
      ]
    },
    {
      "cell_type": "markdown",
      "metadata": {
        "id": "C-H4OWh03DFn",
        "colab_type": "text"
      },
      "source": [
        "Um funcionário de uma empresa recebe aumento salarial anualmente: Sabe-se que: Esse funcionário foi contratado em 1995, com salário inicial de R$ 1.000,00; Em 1996 recebeu aumento de 1,5% sobre seu salário inicial; A partir de 1997 (inclusive), os aumentos salariais sempre correspondem ao dobro do percentual do ano anterior. Crie um algoritmo em R que determine o salário atual desse funcionário. Após concluir isto, altere o programa permitindo que o usuário digite o salário inicial do funcionário"
      ]
    },
    {
      "cell_type": "code",
      "metadata": {
        "id": "vs5qFAKx3Eyi",
        "colab_type": "code",
        "colab": {
          "base_uri": "https://localhost:8080/",
          "height": 442
        },
        "outputId": "aa71cd07-04b2-4caa-b396-54b627e2d89a"
      },
      "source": [
        "# INSIRA SEU CÓDIGO AQUI\n",
        "anoi=1995\n",
        "salarioi=1000\n",
        "taxa=1.5\n",
        "anof=2020\n",
        "\n",
        "for (i in (anoi+2):2020){\n",
        "  taxa=2*taxa\n",
        "  salarioi=1000+(1000*taxa/100)\n",
        "  print(salarioi)\n",
        "}\n",
        "print(salarioi+(1000*1.015))"
      ],
      "execution_count": 165,
      "outputs": [
        {
          "output_type": "stream",
          "text": [
            "[1] 1030\n",
            "[1] 1060\n",
            "[1] 1120\n",
            "[1] 1240\n",
            "[1] 1480\n",
            "[1] 1960\n",
            "[1] 2920\n",
            "[1] 4840\n",
            "[1] 8680\n",
            "[1] 16360\n",
            "[1] 31720\n",
            "[1] 62440\n",
            "[1] 123880\n",
            "[1] 246760\n",
            "[1] 492520\n",
            "[1] 984040\n",
            "[1] 1967080\n",
            "[1] 3933160\n",
            "[1] 7865320\n",
            "[1] 15729640\n",
            "[1] 31458280\n",
            "[1] 62915560\n",
            "[1] 125830120\n",
            "[1] 251659240\n",
            "[1] 251660255\n"
          ],
          "name": "stdout"
        }
      ]
    },
    {
      "cell_type": "markdown",
      "metadata": {
        "id": "PGccudSo3E54",
        "colab_type": "text"
      },
      "source": [
        "Crie um algoritmo em R com uma função que necessite de um argumento. A função retorna o valor de caractere ‘P’, se seu argumento for positivo, e ‘N’, se seu argumento for zero ou negativo."
      ]
    },
    {
      "cell_type": "code",
      "metadata": {
        "id": "_zfLyopV3IqV",
        "colab_type": "code",
        "colab": {
          "base_uri": "https://localhost:8080/",
          "height": 34
        },
        "outputId": "eb1dbd51-cf28-44a8-de89-4daec7df1129"
      },
      "source": [
        "# INSIRA SEU CÓDIGO AQUI\n",
        "noup <- function(valor){\n",
        "  if(valor<0){\n",
        "    return (\"N\")\n",
        "  }else{\n",
        "    return (\"P\")\n",
        "  }\n",
        "}\n",
        "\n",
        "print(noup(2))"
      ],
      "execution_count": 167,
      "outputs": [
        {
          "output_type": "stream",
          "text": [
            "[1] \"P\"\n"
          ],
          "name": "stdout"
        }
      ]
    },
    {
      "cell_type": "markdown",
      "metadata": {
        "id": "bu3Zyati3Iwc",
        "colab_type": "text"
      },
      "source": [
        "Construa uma função que receba uma data no formato DD/MM/AAAA e devolva uma string no formato D de mesPorExtenso de AAAA. Opcionalmente, valide a data e retorne NULL caso a data seja inválida."
      ]
    },
    {
      "cell_type": "code",
      "metadata": {
        "id": "Peo4D5Sz3PDC",
        "colab_type": "code",
        "colab": {
          "base_uri": "https://localhost:8080/",
          "height": 51
        },
        "outputId": "6dc8db49-65a9-4626-84bd-5c5ac77bc70b"
      },
      "source": [
        "# INSIRA SEU CÓDIGO AQUI\n",
        "dataext <- function(data){\n",
        "  dia <- substr(data,1,2)\n",
        "\n",
        "  meses <- c(\"Janeiro\",'Fevereiro','Março','Abril','Maio','Junho','Julho','Agosto',\n",
        "                                       'Setembro','Outubro','Novembro','Dezembro')\n",
        "  index <- as.integer(substr(data,4,5))\n",
        "  mesext <- meses[[index]]\n",
        "  ano <- substr(data,7,10)\n",
        "\n",
        "  return (paste(dia,mesext,ano,sep=\" de \"))\n",
        "}\n",
        "data=as.character(readline(\"Digite uma data (DD/MM/AAAA): \"))\n",
        "print(dataext(data))"
      ],
      "execution_count": 189,
      "outputs": [
        {
          "output_type": "stream",
          "text": [
            "Digite uma data (DD/MM/AAAA): 20/07/1995\n",
            "[1] \"20 de Julho de 1995\"\n"
          ],
          "name": "stdout"
        }
      ]
    }
  ]
}