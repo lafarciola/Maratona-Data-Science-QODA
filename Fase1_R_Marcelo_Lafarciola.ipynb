{
  "nbformat": 4,
  "nbformat_minor": 0,
  "metadata": {
    "colab": {
      "name": "Fase1-R-Marcelo_Lafarciola.ipynb",
      "provenance": [],
      "collapsed_sections": [],
      "include_colab_link": true
    },
    "kernelspec": {
      "name": "ir",
      "display_name": "R"
    }
  },
  "cells": [
    {
      "cell_type": "markdown",
      "metadata": {
        "id": "view-in-github",
        "colab_type": "text"
      },
      "source": [
        "<a href=\"https://colab.research.google.com/github/lafarciola/Maratona-Data-Science-QODA/blob/master/Fase1_R_Marcelo_Lafarciola.ipynb\" target=\"_parent\"><img src=\"https://colab.research.google.com/assets/colab-badge.svg\" alt=\"Open In Colab\"/></a>"
      ]
    },
    {
      "cell_type": "markdown",
      "metadata": {
        "id": "Z2Kl9pfj0JKM",
        "colab_type": "text"
      },
      "source": [
        "# Seja ensinável e execute as tarefas compartilhadas. Por fins didáticos e para melhor separação mental das sintaxes Python/R, realizaremos todos os exercícios de Python em R.\n",
        "![alt text](https://media.giphy.com/media/d3mlE7uhX8KFgEmY/200.gif)"
      ]
    },
    {
      "cell_type": "markdown",
      "metadata": {
        "id": "j9ZuOU7Kyh9O",
        "colab_type": "text"
      },
      "source": [
        "Crie um algoritmo em R que mostre a mensagem \"Alo mundo\" na tela."
      ]
    },
    {
      "cell_type": "code",
      "metadata": {
        "id": "tlFupLd-ydTB",
        "colab_type": "code",
        "outputId": "792bf372-7e27-4ba0-bc3b-c8b7aad52bab",
        "colab": {
          "base_uri": "https://localhost:8080/",
          "height": 34
        }
      },
      "source": [
        "# INSIRA SEU CÓDIGO AQUI\n",
        "print(\"Alo mundo\")"
      ],
      "execution_count": 0,
      "outputs": [
        {
          "output_type": "stream",
          "text": [
            "[1] \"Alo mundo\"\n"
          ],
          "name": "stdout"
        }
      ]
    },
    {
      "cell_type": "markdown",
      "metadata": {
        "id": "yhw2owA-zbrn",
        "colab_type": "text"
      },
      "source": [
        "Crie um algoritmo em R que peça dois números e imprima a soma."
      ]
    },
    {
      "cell_type": "code",
      "metadata": {
        "id": "RJJtXkvV0qzj",
        "colab_type": "code",
        "outputId": "55506bab-7e23-43ff-ce58-36a5c5e2ee73",
        "colab": {
          "base_uri": "https://localhost:8080/",
          "height": 68
        }
      },
      "source": [
        "# INSIRA SEU CÓDIGO AQUI\n",
        "x <- as.integer(readline(\"Digite um número: \"))\n",
        "y <- as.integer(readline(\"Digite outro número: \"))\n",
        "\n",
        "print(x+y)"
      ],
      "execution_count": 0,
      "outputs": [
        {
          "output_type": "stream",
          "text": [
            "Digite um número: 2\n",
            "Digite outro número: 3\n",
            "[1] 5\n"
          ],
          "name": "stdout"
        }
      ]
    },
    {
      "cell_type": "markdown",
      "metadata": {
        "id": "35RwPIIF0w3i",
        "colab_type": "text"
      },
      "source": [
        "Crie um algoritmo em R que peça um número e então mostre a mensagem O número informado foi [número]."
      ]
    },
    {
      "cell_type": "code",
      "metadata": {
        "id": "NEFu-8L808HB",
        "colab_type": "code",
        "outputId": "47813eec-f8ed-4bc6-f134-511d405fa6db",
        "colab": {
          "base_uri": "https://localhost:8080/",
          "height": 51
        }
      },
      "source": [
        "# INSIRA SEU CÓDIGO AQUI\n",
        "a <- as.integer(readline(\"Digite um número: \"))\n",
        "\n",
        "cat(\"O número digitado foi:\", a)"
      ],
      "execution_count": 0,
      "outputs": [
        {
          "output_type": "stream",
          "text": [
            "Digite um número: 2\n",
            "O número digitado foi: 2"
          ],
          "name": "stdout"
        }
      ]
    },
    {
      "cell_type": "markdown",
      "metadata": {
        "id": "_OGQmoYA08bI",
        "colab_type": "text"
      },
      "source": [
        "Crie um algoritmo em R que converta metros para centímetros."
      ]
    },
    {
      "cell_type": "code",
      "metadata": {
        "id": "xxgmQ5j21Abx",
        "colab_type": "code",
        "outputId": "a1141cbd-0686-4ead-b720-77aa0bcbf9a3",
        "colab": {
          "base_uri": "https://localhost:8080/",
          "height": 51
        }
      },
      "source": [
        "# INSIRA SEU CÓDIGO AQUI\n",
        "x <- as.numeric(readline(\"Digite um número me metros: \"))\n",
        "\n",
        "sprintf(\"O número em centímetros é: %s cm\",x*100)"
      ],
      "execution_count": 0,
      "outputs": [
        {
          "output_type": "stream",
          "text": [
            "Digite um número me metros: 1.89\n"
          ],
          "name": "stdout"
        },
        {
          "output_type": "display_data",
          "data": {
            "text/plain": [
              "[1] \"O número em centímetros é: 189 cm\""
            ],
            "text/latex": "'O número em centímetros é: 189 cm'",
            "text/markdown": "'O número em centímetros é: 189 cm'",
            "text/html": [
              "'O número em centímetros é: 189 cm'"
            ]
          },
          "metadata": {
            "tags": []
          }
        }
      ]
    },
    {
      "cell_type": "markdown",
      "metadata": {
        "id": "kP9TOwKo1AnS",
        "colab_type": "text"
      },
      "source": [
        "Crie um algoritmo em Python que peça as 4 notas bimestrais e mostre a média."
      ]
    },
    {
      "cell_type": "code",
      "metadata": {
        "id": "Tj5xsjC-1D5I",
        "colab_type": "code",
        "outputId": "6cc21e81-96ec-44e7-e68f-41600d4adc4b",
        "colab": {
          "base_uri": "https://localhost:8080/",
          "height": 102
        }
      },
      "source": [
        "# INSIRA SEU CÓDIGO AQUI\n",
        "a <- as.numeric(readline(\"Digite a primeira nota: \"))\n",
        "b <- as.numeric(readline(\"Digite a segunda nota: \"))\n",
        "c <- as.numeric(readline(\"Digite a terceira nota: \"))\n",
        "d <- as.numeric(readline(\"Digite a quarta nota: \"))\n",
        "\n",
        "media=mean(c(a,b,c,d))\n",
        "print(media)"
      ],
      "execution_count": 0,
      "outputs": [
        {
          "output_type": "stream",
          "text": [
            "Digite a primeira nota: 2\n",
            "Digite a segunda nota: 5\n",
            "Digite a terceira nota: 4\n",
            "Digite a quarta nota: 3\n",
            "[1] 3.5\n"
          ],
          "name": "stdout"
        }
      ]
    },
    {
      "cell_type": "markdown",
      "metadata": {
        "id": "6vgD9pl81EGd",
        "colab_type": "text"
      },
      "source": [
        "Crie um algoritmo em R que peça o raio de um círculo, calcule e mostre sua área."
      ]
    },
    {
      "cell_type": "code",
      "metadata": {
        "id": "3h1VOEuR1KGz",
        "colab_type": "code",
        "outputId": "9fde8a3f-0642-47c4-a5b8-e7067744006a",
        "colab": {
          "base_uri": "https://localhost:8080/",
          "height": 51
        }
      },
      "source": [
        "# INSIRA SEU CÓDIGO AQUI\n",
        "circle_area <- function(radius){\n",
        "  area=pi*radius**2\n",
        "  return (area)\n",
        "}\n",
        "\n",
        "raio <- as.numeric(readline(\"Digite o raio da circunferência: \"))\n",
        "round(circle_area(raio),digits=2)"
      ],
      "execution_count": 0,
      "outputs": [
        {
          "output_type": "stream",
          "text": [
            "Digite o raio da circunferência: 5\n"
          ],
          "name": "stdout"
        },
        {
          "output_type": "display_data",
          "data": {
            "text/plain": [
              "[1] 78.54"
            ],
            "text/latex": "78.54",
            "text/markdown": "78.54",
            "text/html": [
              "78.54"
            ]
          },
          "metadata": {
            "tags": []
          }
        }
      ]
    },
    {
      "cell_type": "markdown",
      "metadata": {
        "id": "QXhvPnMQ1Kd6",
        "colab_type": "text"
      },
      "source": [
        "Crie um algoritmo em R que calcule a área de um quadrado, em seguida mostre o dobro desta área para o usuário."
      ]
    },
    {
      "cell_type": "code",
      "metadata": {
        "id": "ywZkuhmt1N7l",
        "colab_type": "code",
        "outputId": "0800a491-644d-4797-ad91-b99550b5dacd",
        "colab": {
          "base_uri": "https://localhost:8080/",
          "height": 51
        }
      },
      "source": [
        "# INSIRA SEU CÓDIGO AQUI\n",
        "\n",
        "area_dobra <- function(lado){\n",
        "  area=lado**2\n",
        "  dobro=area*2\n",
        "  return(dobro)\n",
        "}\n",
        "\n",
        "h <- as.numeric(readline(\"Digite o lado do quadrado: \"))\n",
        "round(area_dobra(h),digits=2)"
      ],
      "execution_count": 0,
      "outputs": [
        {
          "output_type": "stream",
          "text": [
            "Digite o lado do quadrado: 2\n"
          ],
          "name": "stdout"
        },
        {
          "output_type": "display_data",
          "data": {
            "text/plain": [
              "[1] 8"
            ],
            "text/latex": "8",
            "text/markdown": "8",
            "text/html": [
              "8"
            ]
          },
          "metadata": {
            "tags": []
          }
        }
      ]
    },
    {
      "cell_type": "markdown",
      "metadata": {
        "id": "F-rpjggB1T5G",
        "colab_type": "text"
      },
      "source": [
        "Crie um algoritmo em R que pergunte quanto você ganha por hora e o número de horas trabalhadas no mês. Calcule e mostre o total do seu salário no referido mês.\n"
      ]
    },
    {
      "cell_type": "code",
      "metadata": {
        "id": "nvMchfOZ2_vC",
        "colab_type": "code",
        "outputId": "ec707778-8324-4123-d880-c35850c0bc96",
        "colab": {
          "base_uri": "https://localhost:8080/",
          "height": 68
        }
      },
      "source": [
        "# INSIRA SEU CÓDIGO AQUI\n",
        "horas <- as.integer(readline(\"Digite o número de horas trabalhadas no mes: \"))\n",
        "valor <- as.numeric(readline(\"Digite o valor da sua hora de trabalho: \"))\n",
        "\n",
        "salario <- horas*valor\n",
        "sprintf(\"O seu salário é de R$%s\",salario)"
      ],
      "execution_count": 0,
      "outputs": [
        {
          "output_type": "stream",
          "text": [
            "Digite o número de horas trabalhadas no mes: 160\n",
            "Digite o valor da sua hora de trabalho: 50\n"
          ],
          "name": "stdout"
        },
        {
          "output_type": "display_data",
          "data": {
            "text/plain": [
              "[1] \"O seu salário é de R$8000\""
            ],
            "text/latex": "'O seu salário é de R\\$8000'",
            "text/markdown": "'O seu salário é de R$8000'",
            "text/html": [
              "'O seu salário é de R$8000'"
            ]
          },
          "metadata": {
            "tags": []
          }
        }
      ]
    },
    {
      "cell_type": "markdown",
      "metadata": {
        "id": "C-H4OWh03DFn",
        "colab_type": "text"
      },
      "source": [
        "Crie um algoritmo em R que peça a temperatura em graus Farenheit, transforme e mostre a temperatura em graus Celsius.\n",
        "C = (5 * (F-32) / 9)."
      ]
    },
    {
      "cell_type": "code",
      "metadata": {
        "id": "vs5qFAKx3Eyi",
        "colab_type": "code",
        "outputId": "cc7a07da-3846-40e0-f61b-acc24aa54a0f",
        "colab": {
          "base_uri": "https://localhost:8080/",
          "height": 51
        }
      },
      "source": [
        "# INSIRA SEU CÓDIGO AQUI\n",
        "farenheit_to_celsius <- function(faren){\n",
        "  c=(5*(faren-32)/9)\n",
        "  return (c)\n",
        "}\n",
        "\n",
        "graus <- as.numeric(readline(\"Digite os graus em Farenheit: \"))\n",
        "sprintf('Em Celsius são %s°C', round(farenheit_to_celsius(graus),digits=1))"
      ],
      "execution_count": 0,
      "outputs": [
        {
          "output_type": "stream",
          "text": [
            "Digite os graus em Farenheit: 90\n"
          ],
          "name": "stdout"
        },
        {
          "output_type": "display_data",
          "data": {
            "text/plain": [
              "[1] \"Em Celsius são 32.2°C\""
            ],
            "text/latex": "'Em Celsius são 32.2°C'",
            "text/markdown": "'Em Celsius são 32.2°C'",
            "text/html": [
              "'Em Celsius são 32.2°C'"
            ]
          },
          "metadata": {
            "tags": []
          }
        }
      ]
    },
    {
      "cell_type": "markdown",
      "metadata": {
        "id": "PGccudSo3E54",
        "colab_type": "text"
      },
      "source": [
        "\n",
        "Crie um algoritmo em R que peça a temperatura em graus Celsius, transforme e mostre em graus Farenheit."
      ]
    },
    {
      "cell_type": "code",
      "metadata": {
        "id": "_zfLyopV3IqV",
        "colab_type": "code",
        "outputId": "40c3c2b4-f984-4023-9671-196f8cf4b9ef",
        "colab": {
          "base_uri": "https://localhost:8080/",
          "height": 51
        }
      },
      "source": [
        "# INSIRA SEU CÓDIGO AQUI\n",
        "celsius_to_farenheit <- function(celsius){\n",
        "  faren=((9*celsius+5*32)/5)\n",
        "  return (faren)\n",
        "}\n",
        "\n",
        "graus <- as.numeric(readline(\"Digite os graus em Celsius: \"))\n",
        "sprintf(\"Em Farenheit são %s°F \", round(celsius_to_farenheit(graus),digit=1))"
      ],
      "execution_count": 0,
      "outputs": [
        {
          "output_type": "stream",
          "text": [
            "Digite os graus em Celsius: 32.2\n"
          ],
          "name": "stdout"
        },
        {
          "output_type": "display_data",
          "data": {
            "text/plain": [
              "[1] \"Em Farenheit são 90°F \""
            ],
            "text/latex": "'Em Farenheit são 90°F '",
            "text/markdown": "'Em Farenheit são 90°F '",
            "text/html": [
              "'Em Farenheit são 90°F '"
            ]
          },
          "metadata": {
            "tags": []
          }
        }
      ]
    },
    {
      "cell_type": "markdown",
      "metadata": {
        "id": "bu3Zyati3Iwc",
        "colab_type": "text"
      },
      "source": [
        "Crie um algoritmo em R que peça 2 números inteiros e um número real. Calcule e mostre:\n",
        "* a soma do dobro do primeiro com metade do segundo .\n",
        "* a soma do triplo do primeiro com o terceiro.\n",
        "* o terceiro elevado ao cubo."
      ]
    },
    {
      "cell_type": "code",
      "metadata": {
        "id": "Peo4D5Sz3PDC",
        "colab_type": "code",
        "outputId": "1b219f7b-9d51-48fd-cd3c-608d4c68fc49",
        "colab": {
          "base_uri": "https://localhost:8080/",
          "height": 119
        }
      },
      "source": [
        "# INSIRA SEU CÓDIGO AQUI\n",
        "x <- as.integer(readline(\"Digite um número inteiro: \"))\n",
        "y <- as.integer(readline(\"Digite outro número inteiro: \"))\n",
        "z <- as.numeric(readline(\"Digite um número real: \"))\n",
        "\n",
        "somadobro <- 2*x + 0.5*y\n",
        "somatriplo <- 3*x + z\n",
        "cubo <- z**3\n",
        "\n",
        "print(somadobro)\n",
        "print(somatriplo)\n",
        "print(cubo)"
      ],
      "execution_count": 0,
      "outputs": [
        {
          "output_type": "stream",
          "text": [
            "Digite um número inteiro: 3\n",
            "Digite outro número inteiro: 2\n",
            "Digite um número real: 2.5\n",
            "[1] 7\n",
            "[1] 11.5\n",
            "[1] 15.625\n"
          ],
          "name": "stdout"
        }
      ]
    }
  ]
}